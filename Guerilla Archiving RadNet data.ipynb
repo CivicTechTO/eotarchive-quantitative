{
 "cells": [
  {
   "cell_type": "markdown",
   "metadata": {},
   "source": [
    "# Exploring extracting data from the EPA web service\n",
    "\n",
    "https://www.epa.gov/enviro/web-services"
   ]
  },
  {
   "cell_type": "markdown",
   "metadata": {},
   "source": [
    "\n",
    "I am using the Python Requests http://docs.python-requests.org/en/master/) library to scrape quantitative data from the EPA web service.  The REST service is self is reasonably well documented at https://www.epa.gov/enviro/web-services\n"
   ]
  },
  {
   "cell_type": "code",
   "execution_count": 70,
   "metadata": {
    "collapsed": true
   },
   "outputs": [],
   "source": [
    "import requests\n",
    "import io\n",
    "import pandas\n",
    "from itertools import chain"
   ]
  },
  {
   "cell_type": "markdown",
   "metadata": {},
   "source": [
    "Example REST query:"
   ]
  },
  {
   "cell_type": "code",
   "execution_count": 17,
   "metadata": {
    "collapsed": false
   },
   "outputs": [
    {
     "data": {
      "text/plain": [
       "'[{\"TOTALQUERYRESULTS\":1146}]'"
      ]
     },
     "execution_count": 17,
     "metadata": {},
     "output_type": "execute_result"
    }
   ],
   "source": [
    "url='https://iaspub.epa.gov/enviro/efservice/tri_facility/state_abbr/VA/count/json'\n",
    "\n",
    "requests.get(url).text"
   ]
  },
  {
   "cell_type": "markdown",
   "metadata": {},
   "source": [
    "I can use this to extract the table data:"
   ]
  },
  {
   "cell_type": "code",
   "execution_count": 18,
   "metadata": {
    "collapsed": false
   },
   "outputs": [],
   "source": [
    "def makeurl(tablename,start,end):\n",
    "    return \"https://iaspub.epa.gov/enviro/efservice/{tablename}/JSON/rows/{start}:{end}\".format_map(locals())\n",
    "\n",
    "url=makeurl( 't_design_for_environment',1,19)\n",
    "out=requests.get(url)\n"
   ]
  },
  {
   "cell_type": "code",
   "execution_count": 19,
   "metadata": {
    "collapsed": false
   },
   "outputs": [
    {
     "data": {
      "text/html": [
       "<div>\n",
       "<table border=\"1\" class=\"dataframe\">\n",
       "  <thead>\n",
       "    <tr style=\"text-align: right;\">\n",
       "      <th></th>\n",
       "      <th>CATEGORY</th>\n",
       "      <th>CITY</th>\n",
       "      <th>COMPANY_NAME</th>\n",
       "      <th>PARTNERSINCE</th>\n",
       "      <th>PRODUCT_NAME</th>\n",
       "      <th>SECTOR</th>\n",
       "      <th>STATE</th>\n",
       "      <th>UPCS</th>\n",
       "    </tr>\n",
       "  </thead>\n",
       "  <tbody>\n",
       "    <tr>\n",
       "      <th>0</th>\n",
       "      <td>Consumer Product</td>\n",
       "      <td>El Segundo</td>\n",
       "      <td>Fresh %26 Easy Neighborhood Market Inc.</td>\n",
       "      <td>2010</td>\n",
       "      <td>Green Things Glass Cleaner</td>\n",
       "      <td>Window/Glass Cleaners</td>\n",
       "      <td>California</td>\n",
       "      <td>None</td>\n",
       "    </tr>\n",
       "    <tr>\n",
       "      <th>1</th>\n",
       "      <td>Consumer Product</td>\n",
       "      <td>Fredonia</td>\n",
       "      <td>Guy %26 O%27Neill, Inc.</td>\n",
       "      <td>2009</td>\n",
       "      <td>Green %26 Clean Green Glass Cleaner</td>\n",
       "      <td>Window/Glass Cleaners</td>\n",
       "      <td>Wisconsin</td>\n",
       "      <td>None</td>\n",
       "    </tr>\n",
       "    <tr>\n",
       "      <th>2</th>\n",
       "      <td>Consumer Product</td>\n",
       "      <td>Newport Beach</td>\n",
       "      <td>ICB-PTY, Ltd.</td>\n",
       "      <td>2010</td>\n",
       "      <td>Earth Rescue Glass %26 Window Cleaner</td>\n",
       "      <td>Window/Glass Cleaners</td>\n",
       "      <td>California</td>\n",
       "      <td>None</td>\n",
       "    </tr>\n",
       "    <tr>\n",
       "      <th>3</th>\n",
       "      <td>Consumer Product</td>\n",
       "      <td>Cleveland</td>\n",
       "      <td>Kinzua Environmental, Inc.</td>\n",
       "      <td>2008</td>\n",
       "      <td>WOW Glass Cleaner RTU</td>\n",
       "      <td>Window/Glass Cleaners</td>\n",
       "      <td>Ohio</td>\n",
       "      <td>None</td>\n",
       "    </tr>\n",
       "    <tr>\n",
       "      <th>4</th>\n",
       "      <td>Consumer Product</td>\n",
       "      <td>Franklin</td>\n",
       "      <td>pHurity, Inc.</td>\n",
       "      <td>2008</td>\n",
       "      <td>Glass %26 High Gloss Surface Cleaner</td>\n",
       "      <td>Window/Glass Cleaners</td>\n",
       "      <td>Michigan</td>\n",
       "      <td>None</td>\n",
       "    </tr>\n",
       "    <tr>\n",
       "      <th>5</th>\n",
       "      <td>Consumer Product</td>\n",
       "      <td>Franklin</td>\n",
       "      <td>pHurity, Inc.</td>\n",
       "      <td>2008</td>\n",
       "      <td>Glass %26 High Gloss Surface Cleaner Free %26 ...</td>\n",
       "      <td>Window/Glass Cleaners</td>\n",
       "      <td>Michigan</td>\n",
       "      <td>None</td>\n",
       "    </tr>\n",
       "    <tr>\n",
       "      <th>6</th>\n",
       "      <td>Consumer Product</td>\n",
       "      <td>Franklin</td>\n",
       "      <td>pHurity, Inc.</td>\n",
       "      <td>2008</td>\n",
       "      <td>Glass Cleaner</td>\n",
       "      <td>Window/Glass Cleaners</td>\n",
       "      <td>Michigan</td>\n",
       "      <td>None</td>\n",
       "    </tr>\n",
       "    <tr>\n",
       "      <th>7</th>\n",
       "      <td>Consumer Product</td>\n",
       "      <td>Roseville</td>\n",
       "      <td>PRIDE Industries</td>\n",
       "      <td>2009</td>\n",
       "      <td>PRIDEClean Glass %26 Mirror Cleaner</td>\n",
       "      <td>Window/Glass Cleaners</td>\n",
       "      <td>California</td>\n",
       "      <td>782900230236, 782900013013</td>\n",
       "    </tr>\n",
       "    <tr>\n",
       "      <th>8</th>\n",
       "      <td>Consumer Product</td>\n",
       "      <td>Hempstead</td>\n",
       "      <td>Professional Sanitary Industries</td>\n",
       "      <td>2016</td>\n",
       "      <td>ProSan Glass Master Glass %26 Window Cleaner</td>\n",
       "      <td>Window/Glass Cleaners</td>\n",
       "      <td>New York</td>\n",
       "      <td>None</td>\n",
       "    </tr>\n",
       "    <tr>\n",
       "      <th>9</th>\n",
       "      <td>Consumer Product</td>\n",
       "      <td>Pleasanton</td>\n",
       "      <td>Safeway Inc.</td>\n",
       "      <td>2012</td>\n",
       "      <td>Bright Green Glass %26 Surface Cleaner</td>\n",
       "      <td>Window/Glass Cleaners</td>\n",
       "      <td>California</td>\n",
       "      <td>843560000697, 079893200071</td>\n",
       "    </tr>\n",
       "    <tr>\n",
       "      <th>10</th>\n",
       "      <td>Consumer Product</td>\n",
       "      <td>Oakland</td>\n",
       "      <td>Serenade Solutions LLC</td>\n",
       "      <td>2015</td>\n",
       "      <td>Serenade Key 64 Green Glass %26 Surface Concen...</td>\n",
       "      <td>Window/Glass Cleaners</td>\n",
       "      <td>California</td>\n",
       "      <td>1818SYM</td>\n",
       "    </tr>\n",
       "    <tr>\n",
       "      <th>11</th>\n",
       "      <td>Consumer Product</td>\n",
       "      <td>Oakland</td>\n",
       "      <td>Serenade Solutions LLC</td>\n",
       "      <td>2015</td>\n",
       "      <td>Serenade Key Green Glass %26 Surface Cleaner</td>\n",
       "      <td>Window/Glass Cleaners</td>\n",
       "      <td>California</td>\n",
       "      <td>1819SYM</td>\n",
       "    </tr>\n",
       "    <tr>\n",
       "      <th>12</th>\n",
       "      <td>Consumer Product</td>\n",
       "      <td>Framingham</td>\n",
       "      <td>Staples Contract %26 Commercial, Inc.</td>\n",
       "      <td>2004</td>\n",
       "      <td>Sustainable Earth Glass Cleaner (RTU)</td>\n",
       "      <td>Window/Glass Cleaners</td>\n",
       "      <td>Massachusetts</td>\n",
       "      <td>None</td>\n",
       "    </tr>\n",
       "    <tr>\n",
       "      <th>13</th>\n",
       "      <td>Consumer Product</td>\n",
       "      <td>Rochester</td>\n",
       "      <td>Wegmans</td>\n",
       "      <td>2014</td>\n",
       "      <td>Glass Cleaner</td>\n",
       "      <td>Window/Glass Cleaners</td>\n",
       "      <td>New York</td>\n",
       "      <td>77890347843</td>\n",
       "    </tr>\n",
       "    <tr>\n",
       "      <th>14</th>\n",
       "      <td>Consumer Product</td>\n",
       "      <td>Wood Dale</td>\n",
       "      <td>Earth Friendly Products</td>\n",
       "      <td>2008</td>\n",
       "      <td>Furniture Polish</td>\n",
       "      <td>Wood Cleaners</td>\n",
       "      <td>Illinois</td>\n",
       "      <td>749174097316, 749174973139, 749174497314</td>\n",
       "    </tr>\n",
       "    <tr>\n",
       "      <th>15</th>\n",
       "      <td>Consumer Product</td>\n",
       "      <td>Wood Dale</td>\n",
       "      <td>Earth Friendly Products</td>\n",
       "      <td>2008</td>\n",
       "      <td>WaveJet Rinse Aid</td>\n",
       "      <td>Rinse Aids</td>\n",
       "      <td>Illinois</td>\n",
       "      <td>74917497477</td>\n",
       "    </tr>\n",
       "    <tr>\n",
       "      <th>16</th>\n",
       "      <td>Consumer Product</td>\n",
       "      <td>Istanbul</td>\n",
       "      <td>Friendly Organic LLC-BST Ltd.</td>\n",
       "      <td>2013</td>\n",
       "      <td>Rinse Aid</td>\n",
       "      <td>Rinse Aids</td>\n",
       "      <td>None</td>\n",
       "      <td>8.68009E+12</td>\n",
       "    </tr>\n",
       "    <tr>\n",
       "      <th>17</th>\n",
       "      <td>Consumer Product</td>\n",
       "      <td>Santa Monica</td>\n",
       "      <td>Honest Company</td>\n",
       "      <td>2012</td>\n",
       "      <td>Honest Rinse Aid</td>\n",
       "      <td>Rinse Aids</td>\n",
       "      <td>California</td>\n",
       "      <td>None</td>\n",
       "    </tr>\n",
       "    <tr>\n",
       "      <th>18</th>\n",
       "      <td>Consumer Product</td>\n",
       "      <td>Newport Beach</td>\n",
       "      <td>ICB-PTY, Ltd.</td>\n",
       "      <td>2010</td>\n",
       "      <td>Earth Rescue Auto Dishwasher Rinse Aid</td>\n",
       "      <td>Rinse Aids</td>\n",
       "      <td>California</td>\n",
       "      <td>None</td>\n",
       "    </tr>\n",
       "  </tbody>\n",
       "</table>\n",
       "</div>"
      ],
      "text/plain": [
       "            CATEGORY           CITY                             COMPANY_NAME  \\\n",
       "0   Consumer Product     El Segundo  Fresh %26 Easy Neighborhood Market Inc.   \n",
       "1   Consumer Product       Fredonia                  Guy %26 O%27Neill, Inc.   \n",
       "2   Consumer Product  Newport Beach                            ICB-PTY, Ltd.   \n",
       "3   Consumer Product      Cleveland               Kinzua Environmental, Inc.   \n",
       "4   Consumer Product       Franklin                            pHurity, Inc.   \n",
       "5   Consumer Product       Franklin                            pHurity, Inc.   \n",
       "6   Consumer Product       Franklin                            pHurity, Inc.   \n",
       "7   Consumer Product      Roseville                         PRIDE Industries   \n",
       "8   Consumer Product      Hempstead         Professional Sanitary Industries   \n",
       "9   Consumer Product     Pleasanton                             Safeway Inc.   \n",
       "10  Consumer Product        Oakland                   Serenade Solutions LLC   \n",
       "11  Consumer Product        Oakland                   Serenade Solutions LLC   \n",
       "12  Consumer Product     Framingham    Staples Contract %26 Commercial, Inc.   \n",
       "13  Consumer Product      Rochester                                  Wegmans   \n",
       "14  Consumer Product      Wood Dale                  Earth Friendly Products   \n",
       "15  Consumer Product      Wood Dale                  Earth Friendly Products   \n",
       "16  Consumer Product       Istanbul            Friendly Organic LLC-BST Ltd.   \n",
       "17  Consumer Product   Santa Monica                           Honest Company   \n",
       "18  Consumer Product  Newport Beach                            ICB-PTY, Ltd.   \n",
       "\n",
       "    PARTNERSINCE                                       PRODUCT_NAME  \\\n",
       "0           2010                         Green Things Glass Cleaner   \n",
       "1           2009                Green %26 Clean Green Glass Cleaner   \n",
       "2           2010              Earth Rescue Glass %26 Window Cleaner   \n",
       "3           2008                              WOW Glass Cleaner RTU   \n",
       "4           2008               Glass %26 High Gloss Surface Cleaner   \n",
       "5           2008  Glass %26 High Gloss Surface Cleaner Free %26 ...   \n",
       "6           2008                                      Glass Cleaner   \n",
       "7           2009                PRIDEClean Glass %26 Mirror Cleaner   \n",
       "8           2016       ProSan Glass Master Glass %26 Window Cleaner   \n",
       "9           2012             Bright Green Glass %26 Surface Cleaner   \n",
       "10          2015  Serenade Key 64 Green Glass %26 Surface Concen...   \n",
       "11          2015       Serenade Key Green Glass %26 Surface Cleaner   \n",
       "12          2004              Sustainable Earth Glass Cleaner (RTU)   \n",
       "13          2014                                      Glass Cleaner   \n",
       "14          2008                                   Furniture Polish   \n",
       "15          2008                                  WaveJet Rinse Aid   \n",
       "16          2013                                          Rinse Aid   \n",
       "17          2012                                   Honest Rinse Aid   \n",
       "18          2010             Earth Rescue Auto Dishwasher Rinse Aid   \n",
       "\n",
       "                   SECTOR          STATE  \\\n",
       "0   Window/Glass Cleaners     California   \n",
       "1   Window/Glass Cleaners      Wisconsin   \n",
       "2   Window/Glass Cleaners     California   \n",
       "3   Window/Glass Cleaners           Ohio   \n",
       "4   Window/Glass Cleaners       Michigan   \n",
       "5   Window/Glass Cleaners       Michigan   \n",
       "6   Window/Glass Cleaners       Michigan   \n",
       "7   Window/Glass Cleaners     California   \n",
       "8   Window/Glass Cleaners       New York   \n",
       "9   Window/Glass Cleaners     California   \n",
       "10  Window/Glass Cleaners     California   \n",
       "11  Window/Glass Cleaners     California   \n",
       "12  Window/Glass Cleaners  Massachusetts   \n",
       "13  Window/Glass Cleaners       New York   \n",
       "14          Wood Cleaners       Illinois   \n",
       "15             Rinse Aids       Illinois   \n",
       "16             Rinse Aids           None   \n",
       "17             Rinse Aids     California   \n",
       "18             Rinse Aids     California   \n",
       "\n",
       "                                        UPCS  \n",
       "0                                       None  \n",
       "1                                       None  \n",
       "2                                       None  \n",
       "3                                       None  \n",
       "4                                       None  \n",
       "5                                       None  \n",
       "6                                       None  \n",
       "7                 782900230236, 782900013013  \n",
       "8                                       None  \n",
       "9                 843560000697, 079893200071  \n",
       "10                                   1818SYM  \n",
       "11                                   1819SYM  \n",
       "12                                      None  \n",
       "13                               77890347843  \n",
       "14  749174097316, 749174973139, 749174497314  \n",
       "15                               74917497477  \n",
       "16                               8.68009E+12  \n",
       "17                                      None  \n",
       "18                                      None  "
      ]
     },
     "execution_count": 19,
     "metadata": {},
     "output_type": "execute_result"
    }
   ],
   "source": [
    "pandas.DataFrame(out.json())"
   ]
  },
  {
   "cell_type": "markdown",
   "metadata": {},
   "source": [
    "Before we go further, we'll want to know the size of each table:"
   ]
  },
  {
   "cell_type": "code",
   "execution_count": 20,
   "metadata": {
    "collapsed": true
   },
   "outputs": [],
   "source": [
    "def table_count(tablename):\n",
    "    url= \"https://iaspub.epa.gov/enviro/efservice/{tablename}/COUNT/JSON\".format_map(locals())\n",
    "    print(url)\n",
    "    return requests.get(url).json()[0]['TOTALQUERYRESULTS']"
   ]
  },
  {
   "cell_type": "code",
   "execution_count": 21,
   "metadata": {
    "collapsed": false
   },
   "outputs": [
    {
     "name": "stdout",
     "output_type": "stream",
     "text": [
      "https://iaspub.epa.gov/enviro/efservice/erm_project/COUNT/JSON\n"
     ]
    },
    {
     "data": {
      "text/plain": [
       "1052"
      ]
     },
     "execution_count": 21,
     "metadata": {},
     "output_type": "execute_result"
    }
   ],
   "source": [
    "table_count('erm_project')"
   ]
  },
  {
   "cell_type": "code",
   "execution_count": 22,
   "metadata": {
    "collapsed": false
   },
   "outputs": [
    {
     "name": "stdout",
     "output_type": "stream",
     "text": [
      "https://iaspub.epa.gov/enviro/efservice/t_design_for_environment/COUNT/JSON\n"
     ]
    },
    {
     "data": {
      "text/plain": [
       "2502"
      ]
     },
     "execution_count": 22,
     "metadata": {},
     "output_type": "execute_result"
    }
   ],
   "source": [
    "table_count('t_design_for_environment')"
   ]
  },
  {
   "cell_type": "markdown",
   "metadata": {},
   "source": [
    "Someone needs to provide me with a full list of tables, but for now I'm focusing on the ones listed at https://www.epa.gov/enviro/radnet-model\n",
    "\n",
    "\n",
    "We're building a complete list at https://docs.google.com/spreadsheets/d/1LDDH-qxJunBqqkS1EfG2mhwgwFi7PylXtz3GYsGjDzA/edit#gid=52614242\n",
    "\n",
    "\n"
   ]
  },
  {
   "cell_type": "code",
   "execution_count": 31,
   "metadata": {
    "collapsed": true
   },
   "outputs": [],
   "source": [
    "tablenames=[\n",
    "    'ERM_RESULT',\n",
    "    'ERM_ANALYSIS',\n",
    "    'ERM_COUNT',\n",
    "    'ERM_SAMPLE',\n",
    "    'ERM_MATRIX',\n",
    "    'ERM_LOCATION',\n",
    "    'ERM_PROJECT',\n",
    "    'ERM_STUDY',\n",
    "    'ERM_ANALYTE',\n",
    "    'ERM_ANA_PROC',\n",
    "    'ERM_DET_TYPE'\n",
    "]\n",
    "\n",
    "# there are many more to be added to this list."
   ]
  },
  {
   "cell_type": "code",
   "execution_count": 38,
   "metadata": {
    "collapsed": true
   },
   "outputs": [],
   "source": [
    "# \n",
    "def table_data(tablename,start=0,end=100):\n",
    "    url=makeurl(tablename,start,end)\n",
    "    print(url)\n",
    "    data=requests.get(url).json()\n",
    "    return pandas.DataFrame(data)"
   ]
  },
  {
   "cell_type": "code",
   "execution_count": 39,
   "metadata": {
    "collapsed": false
   },
   "outputs": [
    {
     "name": "stdout",
     "output_type": "stream",
     "text": [
      "https://iaspub.epa.gov/enviro/efservice/ERM_RESULT/JSON/rows/0:100\n"
     ]
    }
   ],
   "source": [
    "erm_result=table_data('ERM_RESULT')"
   ]
  },
  {
   "cell_type": "code",
   "execution_count": 105,
   "metadata": {
    "collapsed": false
   },
   "outputs": [
    {
     "data": {
      "text/html": [
       "<div>\n",
       "<table border=\"1\" class=\"dataframe\">\n",
       "  <thead>\n",
       "    <tr style=\"text-align: right;\">\n",
       "      <th></th>\n",
       "      <th>ANALYTE_ID</th>\n",
       "      <th>ANA_NUM</th>\n",
       "      <th>CSU</th>\n",
       "      <th>CSU_IN_SI</th>\n",
       "      <th>DETECTABLE</th>\n",
       "      <th>MDC</th>\n",
       "      <th>MDC_IN_SI</th>\n",
       "      <th>RESULT_AMOUNT</th>\n",
       "      <th>RESULT_DATE</th>\n",
       "      <th>RESULT_ID</th>\n",
       "      <th>RESULT_IN_SI</th>\n",
       "      <th>RESULT_UNIT</th>\n",
       "      <th>SI_UNIT</th>\n",
       "    </tr>\n",
       "  </thead>\n",
       "  <tbody>\n",
       "    <tr>\n",
       "      <th>0</th>\n",
       "      <td>BA140</td>\n",
       "      <td>642</td>\n",
       "      <td>4.00</td>\n",
       "      <td>0.15</td>\n",
       "      <td>N</td>\n",
       "      <td>None</td>\n",
       "      <td>None</td>\n",
       "      <td>-6.00</td>\n",
       "      <td>13-OCT-78</td>\n",
       "      <td>1</td>\n",
       "      <td>-0.222</td>\n",
       "      <td>PCI/L</td>\n",
       "      <td>BQ/L</td>\n",
       "    </tr>\n",
       "    <tr>\n",
       "      <th>1</th>\n",
       "      <td>CS137</td>\n",
       "      <td>642</td>\n",
       "      <td>3.50</td>\n",
       "      <td>0.13</td>\n",
       "      <td>N</td>\n",
       "      <td>None</td>\n",
       "      <td>None</td>\n",
       "      <td>3.00</td>\n",
       "      <td>13-OCT-78</td>\n",
       "      <td>2</td>\n",
       "      <td>0.110</td>\n",
       "      <td>PCI/L</td>\n",
       "      <td>BQ/L</td>\n",
       "    </tr>\n",
       "    <tr>\n",
       "      <th>2</th>\n",
       "      <td>I131</td>\n",
       "      <td>642</td>\n",
       "      <td>3.50</td>\n",
       "      <td>0.13</td>\n",
       "      <td>N</td>\n",
       "      <td>None</td>\n",
       "      <td>None</td>\n",
       "      <td>1.00</td>\n",
       "      <td>13-OCT-78</td>\n",
       "      <td>3</td>\n",
       "      <td>0.040</td>\n",
       "      <td>PCI/L</td>\n",
       "      <td>BQ/L</td>\n",
       "    </tr>\n",
       "    <tr>\n",
       "      <th>3</th>\n",
       "      <td>K</td>\n",
       "      <td>642</td>\n",
       "      <td>0.06</td>\n",
       "      <td>0.06</td>\n",
       "      <td>Y</td>\n",
       "      <td>None</td>\n",
       "      <td>None</td>\n",
       "      <td>1.46</td>\n",
       "      <td>13-OCT-78</td>\n",
       "      <td>4</td>\n",
       "      <td>1.460</td>\n",
       "      <td>G/L</td>\n",
       "      <td>G/L</td>\n",
       "    </tr>\n",
       "    <tr>\n",
       "      <th>4</th>\n",
       "      <td>H3</td>\n",
       "      <td>643</td>\n",
       "      <td>100.00</td>\n",
       "      <td>3.70</td>\n",
       "      <td>Y</td>\n",
       "      <td>None</td>\n",
       "      <td>None</td>\n",
       "      <td>400.00</td>\n",
       "      <td>04-OCT-78</td>\n",
       "      <td>1</td>\n",
       "      <td>14.800</td>\n",
       "      <td>PCI/L</td>\n",
       "      <td>BQ/L</td>\n",
       "    </tr>\n",
       "  </tbody>\n",
       "</table>\n",
       "</div>"
      ],
      "text/plain": [
       "  ANALYTE_ID  ANA_NUM     CSU  CSU_IN_SI DETECTABLE   MDC MDC_IN_SI  \\\n",
       "0      BA140      642    4.00       0.15         N   None      None   \n",
       "1      CS137      642    3.50       0.13         N   None      None   \n",
       "2       I131      642    3.50       0.13         N   None      None   \n",
       "3          K      642    0.06       0.06         Y   None      None   \n",
       "4         H3      643  100.00       3.70         Y   None      None   \n",
       "\n",
       "   RESULT_AMOUNT RESULT_DATE  RESULT_ID  RESULT_IN_SI RESULT_UNIT SI_UNIT  \n",
       "0          -6.00   13-OCT-78          1        -0.222       PCI/L    BQ/L  \n",
       "1           3.00   13-OCT-78          2         0.110       PCI/L    BQ/L  \n",
       "2           1.00   13-OCT-78          3         0.040       PCI/L    BQ/L  \n",
       "3           1.46   13-OCT-78          4         1.460         G/L     G/L  \n",
       "4         400.00   04-OCT-78          1        14.800       PCI/L    BQ/L  "
      ]
     },
     "execution_count": 105,
     "metadata": {},
     "output_type": "execute_result"
    }
   ],
   "source": [
    "erm_result.head()"
   ]
  },
  {
   "cell_type": "code",
   "execution_count": 41,
   "metadata": {
    "collapsed": false
   },
   "outputs": [
    {
     "name": "stdout",
     "output_type": "stream",
     "text": [
      "https://iaspub.epa.gov/enviro/efservice/ERM_ANALYTE/JSON/rows/0:100\n"
     ]
    }
   ],
   "source": [
    "erm_analyte=table_data('ERM_ANALYTE')"
   ]
  },
  {
   "cell_type": "code",
   "execution_count": 106,
   "metadata": {
    "collapsed": false
   },
   "outputs": [
    {
     "data": {
      "text/html": [
       "<div>\n",
       "<table border=\"1\" class=\"dataframe\">\n",
       "  <thead>\n",
       "    <tr style=\"text-align: right;\">\n",
       "      <th></th>\n",
       "      <th>ANALYTE_ID</th>\n",
       "      <th>ANALYTE_NAME</th>\n",
       "      <th>ANA_TYPE</th>\n",
       "      <th>CRS_ID</th>\n",
       "      <th>HALF_LIFE</th>\n",
       "      <th>HALF_LIFE_TIME_UNIT</th>\n",
       "    </tr>\n",
       "  </thead>\n",
       "  <tbody>\n",
       "    <tr>\n",
       "      <th>0</th>\n",
       "      <td>AC228</td>\n",
       "      <td>Actinium-228</td>\n",
       "      <td>R</td>\n",
       "      <td>None</td>\n",
       "      <td>6.130</td>\n",
       "      <td>H</td>\n",
       "    </tr>\n",
       "    <tr>\n",
       "      <th>1</th>\n",
       "      <td>ALPHA</td>\n",
       "      <td>Gross Alpha</td>\n",
       "      <td>R</td>\n",
       "      <td>None</td>\n",
       "      <td>NaN</td>\n",
       "      <td>None</td>\n",
       "    </tr>\n",
       "    <tr>\n",
       "      <th>2</th>\n",
       "      <td>AM241</td>\n",
       "      <td>Americium-241</td>\n",
       "      <td>R</td>\n",
       "      <td>None</td>\n",
       "      <td>432.200</td>\n",
       "      <td>Y</td>\n",
       "    </tr>\n",
       "    <tr>\n",
       "      <th>3</th>\n",
       "      <td>BA133</td>\n",
       "      <td>Barium-133</td>\n",
       "      <td>R</td>\n",
       "      <td>None</td>\n",
       "      <td>10.500</td>\n",
       "      <td>Y</td>\n",
       "    </tr>\n",
       "    <tr>\n",
       "      <th>4</th>\n",
       "      <td>BA140</td>\n",
       "      <td>Barium-140</td>\n",
       "      <td>R</td>\n",
       "      <td>None</td>\n",
       "      <td>12.789</td>\n",
       "      <td>D</td>\n",
       "    </tr>\n",
       "  </tbody>\n",
       "</table>\n",
       "</div>"
      ],
      "text/plain": [
       "  ANALYTE_ID   ANALYTE_NAME ANA_TYPE CRS_ID  HALF_LIFE HALF_LIFE_TIME_UNIT\n",
       "0      AC228   Actinium-228        R   None      6.130                   H\n",
       "1      ALPHA    Gross Alpha        R   None        NaN                None\n",
       "2      AM241  Americium-241        R   None    432.200                   Y\n",
       "3      BA133     Barium-133        R   None     10.500                   Y\n",
       "4      BA140     Barium-140        R   None     12.789                   D"
      ]
     },
     "execution_count": 106,
     "metadata": {},
     "output_type": "execute_result"
    }
   ],
   "source": [
    "erm_analyte.head()"
   ]
  },
  {
   "cell_type": "markdown",
   "metadata": {},
   "source": [
    "## Performance Profiling.\n",
    "\n",
    "Are there limits to how much data we can pull per request?  How fast we can retrieve it?\n",
    "\n",
    "Let's try a reasonably big table: `ERM_ANALYSIS`"
   ]
  },
  {
   "cell_type": "code",
   "execution_count": 37,
   "metadata": {
    "collapsed": false
   },
   "outputs": [
    {
     "name": "stdout",
     "output_type": "stream",
     "text": [
      "https://iaspub.epa.gov/enviro/efservice/ERM_ANALYSIS/COUNT/JSON\n"
     ]
    },
    {
     "data": {
      "text/plain": [
       "320561"
      ]
     },
     "execution_count": 37,
     "metadata": {},
     "output_type": "execute_result"
    }
   ],
   "source": [
    "table_count('ERM_ANALYSIS')"
   ]
  },
  {
   "cell_type": "code",
   "execution_count": 48,
   "metadata": {
    "collapsed": false
   },
   "outputs": [
    {
     "name": "stdout",
     "output_type": "stream",
     "text": [
      "https://iaspub.epa.gov/enviro/efservice/ERM_ANALYSIS/JSON/rows/0:10\n",
      "11 rows retrieved\n",
      "CPU times: user 16 ms, sys: 4 ms, total: 20 ms\n",
      "Wall time: 453 ms\n"
     ]
    }
   ],
   "source": [
    "%%time\n",
    "\n",
    "erm_analysis = table_data('ERM_ANALYSIS',0,10)\n",
    "print(len(erm_analysis),\"rows retrieved\")"
   ]
  },
  {
   "cell_type": "code",
   "execution_count": 49,
   "metadata": {
    "collapsed": false
   },
   "outputs": [
    {
     "data": {
      "text/html": [
       "<div>\n",
       "<table border=\"1\" class=\"dataframe\">\n",
       "  <thead>\n",
       "    <tr style=\"text-align: right;\">\n",
       "      <th></th>\n",
       "      <th>ANA_COMMENT</th>\n",
       "      <th>ANA_NUM</th>\n",
       "      <th>ANA_PROC_NUM</th>\n",
       "      <th>ANA_SIZE</th>\n",
       "      <th>ANA_SIZE_2</th>\n",
       "      <th>ANA_UNIT</th>\n",
       "      <th>ANA_UNIT_2</th>\n",
       "      <th>SAMP_NUM</th>\n",
       "    </tr>\n",
       "  </thead>\n",
       "  <tbody>\n",
       "    <tr>\n",
       "      <th>0</th>\n",
       "      <td>None</td>\n",
       "      <td>642</td>\n",
       "      <td>9</td>\n",
       "      <td>3.5</td>\n",
       "      <td>None</td>\n",
       "      <td>L</td>\n",
       "      <td>None</td>\n",
       "      <td>230</td>\n",
       "    </tr>\n",
       "    <tr>\n",
       "      <th>1</th>\n",
       "      <td>None</td>\n",
       "      <td>643</td>\n",
       "      <td>10</td>\n",
       "      <td>NaN</td>\n",
       "      <td>None</td>\n",
       "      <td>None</td>\n",
       "      <td>None</td>\n",
       "      <td>231</td>\n",
       "    </tr>\n",
       "    <tr>\n",
       "      <th>2</th>\n",
       "      <td>None</td>\n",
       "      <td>644</td>\n",
       "      <td>10</td>\n",
       "      <td>NaN</td>\n",
       "      <td>None</td>\n",
       "      <td>None</td>\n",
       "      <td>None</td>\n",
       "      <td>232</td>\n",
       "    </tr>\n",
       "    <tr>\n",
       "      <th>3</th>\n",
       "      <td>None</td>\n",
       "      <td>645</td>\n",
       "      <td>10</td>\n",
       "      <td>NaN</td>\n",
       "      <td>None</td>\n",
       "      <td>None</td>\n",
       "      <td>None</td>\n",
       "      <td>233</td>\n",
       "    </tr>\n",
       "    <tr>\n",
       "      <th>4</th>\n",
       "      <td>None</td>\n",
       "      <td>646</td>\n",
       "      <td>10</td>\n",
       "      <td>NaN</td>\n",
       "      <td>None</td>\n",
       "      <td>None</td>\n",
       "      <td>None</td>\n",
       "      <td>234</td>\n",
       "    </tr>\n",
       "  </tbody>\n",
       "</table>\n",
       "</div>"
      ],
      "text/plain": [
       "  ANA_COMMENT  ANA_NUM  ANA_PROC_NUM  ANA_SIZE ANA_SIZE_2 ANA_UNIT ANA_UNIT_2  \\\n",
       "0        None      642             9       3.5       None        L       None   \n",
       "1        None      643            10       NaN       None     None       None   \n",
       "2        None      644            10       NaN       None     None       None   \n",
       "3        None      645            10       NaN       None     None       None   \n",
       "4        None      646            10       NaN       None     None       None   \n",
       "\n",
       "   SAMP_NUM  \n",
       "0       230  \n",
       "1       231  \n",
       "2       232  \n",
       "3       233  \n",
       "4       234  "
      ]
     },
     "execution_count": 49,
     "metadata": {},
     "output_type": "execute_result"
    }
   ],
   "source": [
    "erm_analysis.head()"
   ]
  },
  {
   "cell_type": "code",
   "execution_count": 52,
   "metadata": {
    "collapsed": false
   },
   "outputs": [
    {
     "name": "stdout",
     "output_type": "stream",
     "text": [
      "https://iaspub.epa.gov/enviro/efservice/ERM_ANALYSIS/JSON/rows/0:100\n",
      "101 rows retrieved\n",
      "CPU times: user 16 ms, sys: 4 ms, total: 20 ms\n",
      "Wall time: 1.43 s\n"
     ]
    }
   ],
   "source": [
    "%%time\n",
    "\n",
    "erm_analysis = table_data('ERM_ANALYSIS',0,100)\n",
    "print(len(erm_analysis),\"rows retrieved\")"
   ]
  },
  {
   "cell_type": "code",
   "execution_count": 53,
   "metadata": {
    "collapsed": false
   },
   "outputs": [
    {
     "name": "stdout",
     "output_type": "stream",
     "text": [
      "https://iaspub.epa.gov/enviro/efservice/ERM_ANALYSIS/JSON/rows/0:200\n",
      "201 rows retrieved\n",
      "CPU times: user 20 ms, sys: 0 ns, total: 20 ms\n",
      "Wall time: 1.97 s\n"
     ]
    }
   ],
   "source": [
    "%%time\n",
    "\n",
    "erm_analysis = table_data('ERM_ANALYSIS',0,200)\n",
    "print(len(erm_analysis),\"rows retrieved\")"
   ]
  },
  {
   "cell_type": "code",
   "execution_count": 54,
   "metadata": {
    "collapsed": false
   },
   "outputs": [
    {
     "name": "stdout",
     "output_type": "stream",
     "text": [
      "https://iaspub.epa.gov/enviro/efservice/ERM_ANALYSIS/JSON/rows/0:400\n",
      "401 rows retrieved\n",
      "CPU times: user 16 ms, sys: 4 ms, total: 20 ms\n",
      "Wall time: 4.17 s\n"
     ]
    }
   ],
   "source": [
    "%%time\n",
    "\n",
    "erm_analysis = table_data('ERM_ANALYSIS',0,400)\n",
    "print(len(erm_analysis),\"rows retrieved\")"
   ]
  },
  {
   "cell_type": "code",
   "execution_count": 55,
   "metadata": {
    "collapsed": false
   },
   "outputs": [
    {
     "name": "stdout",
     "output_type": "stream",
     "text": [
      "https://iaspub.epa.gov/enviro/efservice/ERM_ANALYSIS/JSON/rows/0:800\n",
      "801 rows retrieved\n",
      "CPU times: user 28 ms, sys: 0 ns, total: 28 ms\n",
      "Wall time: 33.8 s\n"
     ]
    }
   ],
   "source": [
    "%%time\n",
    "\n",
    "erm_analysis = table_data('ERM_ANALYSIS',0,800)\n",
    "print(len(erm_analysis),\"rows retrieved\")"
   ]
  },
  {
   "cell_type": "code",
   "execution_count": 50,
   "metadata": {
    "collapsed": false
   },
   "outputs": [
    {
     "name": "stdout",
     "output_type": "stream",
     "text": [
      "https://iaspub.epa.gov/enviro/efservice/ERM_ANALYSIS/JSON/rows/0:1000\n",
      "1001 rows retrieved\n",
      "CPU times: user 24 ms, sys: 4 ms, total: 28 ms\n",
      "Wall time: 57.5 s\n"
     ]
    }
   ],
   "source": [
    "%%time\n",
    "\n",
    "erm_analysis = table_data('ERM_ANALYSIS',0,1000)\n",
    "print(len(erm_analysis),\"rows retrieved\")"
   ]
  },
  {
   "cell_type": "code",
   "execution_count": 57,
   "metadata": {
    "collapsed": false
   },
   "outputs": [
    {
     "name": "stdout",
     "output_type": "stream",
     "text": [
      "https://iaspub.epa.gov/enviro/efservice/ERM_ANALYSIS/JSON/rows/0:500\n",
      "501 rows retrieved\n",
      "CPU times: user 16 ms, sys: 4 ms, total: 20 ms\n",
      "Wall time: 6.28 s\n"
     ]
    }
   ],
   "source": [
    "%%time\n",
    "\n",
    "erm_analysis = table_data('ERM_ANALYSIS',0,500)\n",
    "print(len(erm_analysis),\"rows retrieved\")"
   ]
  },
  {
   "cell_type": "code",
   "execution_count": 58,
   "metadata": {
    "collapsed": false
   },
   "outputs": [
    {
     "name": "stdout",
     "output_type": "stream",
     "text": [
      "https://iaspub.epa.gov/enviro/efservice/ERM_ANALYSIS/JSON/rows/0:600\n",
      "601 rows retrieved\n",
      "CPU times: user 20 ms, sys: 4 ms, total: 24 ms\n",
      "Wall time: 12.8 s\n"
     ]
    }
   ],
   "source": [
    "%%time\n",
    "\n",
    "erm_analysis = table_data('ERM_ANALYSIS',0,600)\n",
    "print(len(erm_analysis),\"rows retrieved\")"
   ]
  },
  {
   "cell_type": "markdown",
   "metadata": {},
   "source": [
    "### So retrieval time seems to go up significantly once we go past 500 rows."
   ]
  },
  {
   "cell_type": "markdown",
   "metadata": {},
   "source": [
    "So let's write an iterative retrieval function"
   ]
  },
  {
   "cell_type": "code",
   "execution_count": 117,
   "metadata": {
    "collapsed": true
   },
   "outputs": [],
   "source": [
    "def collect(tablename, rowcount=100, limit = 1000):\n",
    "    '''\n",
    "        The API understands start/end to be INCLUSIVE\n",
    "    '''\n",
    "    count   =table_count(tablename)\n",
    "    def inner():\n",
    "        start   =0\n",
    "        end     = rowcount-1    \n",
    "        while start <=count:\n",
    "            end=min(end,limit-1)\n",
    "            url = makeurl(tablename,start,end)\n",
    "            print(url)\n",
    "            yield requests.get(url).json()\n",
    "            \n",
    "            start+= rowcount\n",
    "            end  += rowcount\n",
    "            if start>limit-1:return\n",
    "    return pandas.DataFrame(list(chain.from_iterable(inner())))"
   ]
  },
  {
   "cell_type": "code",
   "execution_count": 118,
   "metadata": {
    "collapsed": false,
    "scrolled": false
   },
   "outputs": [
    {
     "name": "stdout",
     "output_type": "stream",
     "text": [
      "https://iaspub.epa.gov/enviro/efservice/ERM_ANALYTE/COUNT/JSON\n",
      "https://iaspub.epa.gov/enviro/efservice/ERM_ANALYTE/JSON/rows/0:19\n",
      "https://iaspub.epa.gov/enviro/efservice/ERM_ANALYTE/JSON/rows/20:34\n"
     ]
    }
   ],
   "source": [
    "erm_analyte=collect('ERM_ANALYTE',rowcount=20,limit=35)"
   ]
  },
  {
   "cell_type": "code",
   "execution_count": 119,
   "metadata": {
    "collapsed": false
   },
   "outputs": [
    {
     "data": {
      "text/plain": [
       "35"
      ]
     },
     "execution_count": 119,
     "metadata": {},
     "output_type": "execute_result"
    }
   ],
   "source": [
    "len(erm_analyte)"
   ]
  },
  {
   "cell_type": "markdown",
   "metadata": {},
   "source": [
    "Let's compare this with our previous method"
   ]
  },
  {
   "cell_type": "code",
   "execution_count": 83,
   "metadata": {
    "collapsed": false
   },
   "outputs": [
    {
     "name": "stdout",
     "output_type": "stream",
     "text": [
      "https://iaspub.epa.gov/enviro/efservice/ERM_ANALYTE/JSON/rows/0:100\n"
     ]
    }
   ],
   "source": [
    "\n",
    "erm_analyte_=table_data('ERM_ANALYTE')"
   ]
  },
  {
   "cell_type": "code",
   "execution_count": 90,
   "metadata": {
    "collapsed": false
   },
   "outputs": [
    {
     "data": {
      "text/html": [
       "<div>\n",
       "<table border=\"1\" class=\"dataframe\">\n",
       "  <thead>\n",
       "    <tr style=\"text-align: right;\">\n",
       "      <th></th>\n",
       "      <th>ANALYTE_ID</th>\n",
       "      <th>ANALYTE_NAME</th>\n",
       "      <th>ANA_TYPE</th>\n",
       "      <th>CRS_ID</th>\n",
       "      <th>HALF_LIFE</th>\n",
       "      <th>HALF_LIFE_TIME_UNIT</th>\n",
       "    </tr>\n",
       "  </thead>\n",
       "  <tbody>\n",
       "    <tr>\n",
       "      <th>0</th>\n",
       "      <td>AC228</td>\n",
       "      <td>Actinium-228</td>\n",
       "      <td>R</td>\n",
       "      <td>None</td>\n",
       "      <td>6.130</td>\n",
       "      <td>H</td>\n",
       "    </tr>\n",
       "    <tr>\n",
       "      <th>1</th>\n",
       "      <td>ALPHA</td>\n",
       "      <td>Gross Alpha</td>\n",
       "      <td>R</td>\n",
       "      <td>None</td>\n",
       "      <td>NaN</td>\n",
       "      <td>None</td>\n",
       "    </tr>\n",
       "    <tr>\n",
       "      <th>2</th>\n",
       "      <td>AM241</td>\n",
       "      <td>Americium-241</td>\n",
       "      <td>R</td>\n",
       "      <td>None</td>\n",
       "      <td>432.200</td>\n",
       "      <td>Y</td>\n",
       "    </tr>\n",
       "    <tr>\n",
       "      <th>3</th>\n",
       "      <td>BA133</td>\n",
       "      <td>Barium-133</td>\n",
       "      <td>R</td>\n",
       "      <td>None</td>\n",
       "      <td>10.500</td>\n",
       "      <td>Y</td>\n",
       "    </tr>\n",
       "    <tr>\n",
       "      <th>4</th>\n",
       "      <td>BA140</td>\n",
       "      <td>Barium-140</td>\n",
       "      <td>R</td>\n",
       "      <td>None</td>\n",
       "      <td>12.789</td>\n",
       "      <td>D</td>\n",
       "    </tr>\n",
       "  </tbody>\n",
       "</table>\n",
       "</div>"
      ],
      "text/plain": [
       "  ANALYTE_ID   ANALYTE_NAME ANA_TYPE CRS_ID  HALF_LIFE HALF_LIFE_TIME_UNIT\n",
       "0      AC228   Actinium-228        R   None      6.130                   H\n",
       "1      ALPHA    Gross Alpha        R   None        NaN                None\n",
       "2      AM241  Americium-241        R   None    432.200                   Y\n",
       "3      BA133     Barium-133        R   None     10.500                   Y\n",
       "4      BA140     Barium-140        R   None     12.789                   D"
      ]
     },
     "execution_count": 90,
     "metadata": {},
     "output_type": "execute_result"
    }
   ],
   "source": [
    "erm_analyte.head()"
   ]
  },
  {
   "cell_type": "code",
   "execution_count": 93,
   "metadata": {
    "collapsed": false
   },
   "outputs": [
    {
     "data": {
      "text/html": [
       "<div>\n",
       "<table border=\"1\" class=\"dataframe\">\n",
       "  <thead>\n",
       "    <tr style=\"text-align: right;\">\n",
       "      <th></th>\n",
       "      <th>ANALYTE_ID</th>\n",
       "      <th>ANALYTE_NAME</th>\n",
       "      <th>ANA_TYPE</th>\n",
       "      <th>CRS_ID</th>\n",
       "      <th>HALF_LIFE</th>\n",
       "      <th>HALF_LIFE_TIME_UNIT</th>\n",
       "    </tr>\n",
       "  </thead>\n",
       "  <tbody>\n",
       "    <tr>\n",
       "      <th>0</th>\n",
       "      <td>AC228</td>\n",
       "      <td>Actinium-228</td>\n",
       "      <td>R</td>\n",
       "      <td>None</td>\n",
       "      <td>6.130</td>\n",
       "      <td>H</td>\n",
       "    </tr>\n",
       "    <tr>\n",
       "      <th>1</th>\n",
       "      <td>ALPHA</td>\n",
       "      <td>Gross Alpha</td>\n",
       "      <td>R</td>\n",
       "      <td>None</td>\n",
       "      <td>NaN</td>\n",
       "      <td>None</td>\n",
       "    </tr>\n",
       "    <tr>\n",
       "      <th>2</th>\n",
       "      <td>AM241</td>\n",
       "      <td>Americium-241</td>\n",
       "      <td>R</td>\n",
       "      <td>None</td>\n",
       "      <td>432.200</td>\n",
       "      <td>Y</td>\n",
       "    </tr>\n",
       "    <tr>\n",
       "      <th>3</th>\n",
       "      <td>BA133</td>\n",
       "      <td>Barium-133</td>\n",
       "      <td>R</td>\n",
       "      <td>None</td>\n",
       "      <td>10.500</td>\n",
       "      <td>Y</td>\n",
       "    </tr>\n",
       "    <tr>\n",
       "      <th>4</th>\n",
       "      <td>BA140</td>\n",
       "      <td>Barium-140</td>\n",
       "      <td>R</td>\n",
       "      <td>None</td>\n",
       "      <td>12.789</td>\n",
       "      <td>D</td>\n",
       "    </tr>\n",
       "  </tbody>\n",
       "</table>\n",
       "</div>"
      ],
      "text/plain": [
       "  ANALYTE_ID   ANALYTE_NAME ANA_TYPE CRS_ID  HALF_LIFE HALF_LIFE_TIME_UNIT\n",
       "0      AC228   Actinium-228        R   None      6.130                   H\n",
       "1      ALPHA    Gross Alpha        R   None        NaN                None\n",
       "2      AM241  Americium-241        R   None    432.200                   Y\n",
       "3      BA133     Barium-133        R   None     10.500                   Y\n",
       "4      BA140     Barium-140        R   None     12.789                   D"
      ]
     },
     "execution_count": 93,
     "metadata": {},
     "output_type": "execute_result"
    }
   ],
   "source": [
    "erm_analyte_.head()"
   ]
  },
  {
   "cell_type": "markdown",
   "metadata": {},
   "source": [
    "So we can use this technique to extract a table piecemeal.  Let's try it on a bigger table with a larger stride"
   ]
  },
  {
   "cell_type": "markdown",
   "metadata": {},
   "source": [
    "The `ERM_ANALYSIS` is significantly bigger than `ERM_ANALYTE` "
   ]
  },
  {
   "cell_type": "code",
   "execution_count": 107,
   "metadata": {
    "collapsed": false
   },
   "outputs": [
    {
     "name": "stdout",
     "output_type": "stream",
     "text": [
      "https://iaspub.epa.gov/enviro/efservice/ERM_ANALYSIS/COUNT/JSON\n"
     ]
    },
    {
     "data": {
      "text/plain": [
       "320561"
      ]
     },
     "execution_count": 107,
     "metadata": {},
     "output_type": "execute_result"
    }
   ],
   "source": [
    "table_count('ERM_ANALYSIS')"
   ]
  },
  {
   "cell_type": "code",
   "execution_count": 120,
   "metadata": {
    "collapsed": false
   },
   "outputs": [
    {
     "name": "stdout",
     "output_type": "stream",
     "text": [
      "https://iaspub.epa.gov/enviro/efservice/ERM_ANALYSIS/COUNT/JSON\n",
      "https://iaspub.epa.gov/enviro/efservice/ERM_ANALYSIS/JSON/rows/0:99\n",
      "https://iaspub.epa.gov/enviro/efservice/ERM_ANALYSIS/JSON/rows/100:199\n",
      "https://iaspub.epa.gov/enviro/efservice/ERM_ANALYSIS/JSON/rows/200:299\n",
      "https://iaspub.epa.gov/enviro/efservice/ERM_ANALYSIS/JSON/rows/300:399\n",
      "https://iaspub.epa.gov/enviro/efservice/ERM_ANALYSIS/JSON/rows/400:499\n",
      "https://iaspub.epa.gov/enviro/efservice/ERM_ANALYSIS/JSON/rows/500:599\n",
      "https://iaspub.epa.gov/enviro/efservice/ERM_ANALYSIS/JSON/rows/600:699\n",
      "https://iaspub.epa.gov/enviro/efservice/ERM_ANALYSIS/JSON/rows/700:799\n",
      "https://iaspub.epa.gov/enviro/efservice/ERM_ANALYSIS/JSON/rows/800:899\n",
      "https://iaspub.epa.gov/enviro/efservice/ERM_ANALYSIS/JSON/rows/900:999\n",
      "CPU times: user 144 ms, sys: 40 ms, total: 184 ms\n",
      "Wall time: 14.5 s\n"
     ]
    }
   ],
   "source": [
    "%%time\n",
    "erm_analysis=collect('ERM_ANALYSIS',rowcount=100,limit=1000)"
   ]
  },
  {
   "cell_type": "markdown",
   "metadata": {},
   "source": [
    "Which is significantly faster than than the **57 seconds** it took to get the data in one go."
   ]
  },
  {
   "cell_type": "code",
   "execution_count": null,
   "metadata": {
    "collapsed": true
   },
   "outputs": [],
   "source": []
  }
 ],
 "metadata": {
  "kernelspec": {
   "display_name": "Python 3",
   "language": "python",
   "name": "python3"
  },
  "language_info": {
   "codemirror_mode": {
    "name": "ipython",
    "version": 3
   },
   "file_extension": ".py",
   "mimetype": "text/x-python",
   "name": "python",
   "nbconvert_exporter": "python",
   "pygments_lexer": "ipython3",
   "version": "3.5.2"
  }
 },
 "nbformat": 4,
 "nbformat_minor": 0
}
