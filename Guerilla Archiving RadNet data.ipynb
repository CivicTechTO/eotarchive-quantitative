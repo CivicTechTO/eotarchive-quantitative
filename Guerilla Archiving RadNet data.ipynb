{
 "cells": [
  {
   "cell_type": "code",
   "execution_count": 1,
   "metadata": {
    "collapsed": true
   },
   "outputs": [],
   "source": [
    "url = 'https://oaspub.epa.gov/enviro/radnet_adhoc_where.retrieval_list?table_1=dummy&table_1=V_ERAMS_LOCATION.LOC_NUM&table_1=V_ERAMS_LOCATION.CITY_NAME&table_1=V_ERAMS_LOCATION.STATE_ABBR&table_1=V_ERAMS_LOCATION.STATION&table_1=V_ERAMS_LOCATION.SURFACE_WATER_SOURCE&table_1=V_ERAMS_LOCATION.PROJ_NUM&table_1=V_ERAMS_RESULTS_ANALYTE.ANALYTE_ID&table_1=V_ERAMS_RESULTS_ANALYTE.ANA_NUM&table_1=V_ERAMS_RESULTS_ANALYTE.RESULT_AMOUNT&table_1=V_ERAMS_RESULTS_ANALYTE.CSU&table_1=V_ERAMS_RESULTS_ANALYTE.MDC'"
   ]
  },
  {
   "cell_type": "code",
   "execution_count": 3,
   "metadata": {
    "collapsed": true
   },
   "outputs": [],
   "source": [
    "import requests"
   ]
  },
  {
   "cell_type": "code",
   "execution_count": 4,
   "metadata": {
    "collapsed": true
   },
   "outputs": [],
   "source": [
    "session=requests.Session()"
   ]
  },
  {
   "cell_type": "code",
   "execution_count": 6,
   "metadata": {
    "collapsed": false
   },
   "outputs": [],
   "source": [
    "out = session.get(\"https://www.epa.gov/enviro/radnet-customized-search\")"
   ]
  },
  {
   "cell_type": "code",
   "execution_count": 8,
   "metadata": {
    "collapsed": false
   },
   "outputs": [
    {
     "data": {
      "text/plain": [
       "<Response [200]>"
      ]
     },
     "execution_count": 8,
     "metadata": {},
     "output_type": "execute_result"
    }
   ],
   "source": [
    "out"
   ]
  },
  {
   "cell_type": "markdown",
   "metadata": {},
   "source": [
    "```sql\n",
    "SELECT DISTINCT V_ERAMS_LOCATION.LOC_NUM, V_ERAMS_LOCATION.CITY_NAME from V_ERAMS_LOCATION\n",
    "```"
   ]
  },
  {
   "cell_type": "code",
   "execution_count": 11,
   "metadata": {
    "collapsed": false
   },
   "outputs": [],
   "source": [
    "url='http://www3.epa.gov/enviro/pickadhoc/1328228095.CSV'"
   ]
  },
  {
   "cell_type": "code",
   "execution_count": 12,
   "metadata": {
    "collapsed": true
   },
   "outputs": [],
   "source": [
    "out=session.get(url)"
   ]
  },
  {
   "cell_type": "code",
   "execution_count": 21,
   "metadata": {
    "collapsed": true
   },
   "outputs": [],
   "source": [
    "import io"
   ]
  },
  {
   "cell_type": "code",
   "execution_count": 22,
   "metadata": {
    "collapsed": true
   },
   "outputs": [],
   "source": [
    "stream = io.StringIO(out.text)"
   ]
  },
  {
   "cell_type": "code",
   "execution_count": 15,
   "metadata": {
    "collapsed": false
   },
   "outputs": [],
   "source": [
    "import pandas"
   ]
  },
  {
   "cell_type": "code",
   "execution_count": 23,
   "metadata": {
    "collapsed": false
   },
   "outputs": [
    {
     "data": {
      "text/html": [
       "<div>\n",
       "<table border=\"1\" class=\"dataframe\">\n",
       "  <thead>\n",
       "    <tr style=\"text-align: right;\">\n",
       "      <th></th>\n",
       "      <th>V_ERAMS_LOCATION.CITY_NAME</th>\n",
       "    </tr>\n",
       "    <tr>\n",
       "      <th>V_ERAMS_LOCATION.LOC_NUM</th>\n",
       "      <th></th>\n",
       "    </tr>\n",
       "  </thead>\n",
       "  <tbody>\n",
       "    <tr>\n",
       "      <th>180</th>\n",
       "      <td>NASHVILLE</td>\n",
       "    </tr>\n",
       "    <tr>\n",
       "      <th>368</th>\n",
       "      <td>FORT WORTH</td>\n",
       "    </tr>\n",
       "    <tr>\n",
       "      <th>79</th>\n",
       "      <td>ANCHORAGE</td>\n",
       "    </tr>\n",
       "    <tr>\n",
       "      <th>3127</th>\n",
       "      <td>SAN DIEGO</td>\n",
       "    </tr>\n",
       "    <tr>\n",
       "      <th>964</th>\n",
       "      <td>ST. GEORGE</td>\n",
       "    </tr>\n",
       "    <tr>\n",
       "      <th>192</th>\n",
       "      <td>LINCOLN</td>\n",
       "    </tr>\n",
       "    <tr>\n",
       "      <th>159</th>\n",
       "      <td>WICHITA</td>\n",
       "    </tr>\n",
       "    <tr>\n",
       "      <th>182</th>\n",
       "      <td>MUSCLE SHOALS</td>\n",
       "    </tr>\n",
       "    <tr>\n",
       "      <th>429</th>\n",
       "      <td>RENO</td>\n",
       "    </tr>\n",
       "    <tr>\n",
       "      <th>78</th>\n",
       "      <td>BAYSIDE</td>\n",
       "    </tr>\n",
       "    <tr>\n",
       "      <th>116</th>\n",
       "      <td>SYRACUSE</td>\n",
       "    </tr>\n",
       "    <tr>\n",
       "      <th>119</th>\n",
       "      <td>DES MOINES</td>\n",
       "    </tr>\n",
       "    <tr>\n",
       "      <th>27</th>\n",
       "      <td>HARRISBURG</td>\n",
       "    </tr>\n",
       "    <tr>\n",
       "      <th>96</th>\n",
       "      <td>OKLAHOMA CITY</td>\n",
       "    </tr>\n",
       "    <tr>\n",
       "      <th>203</th>\n",
       "      <td>PLYMOUTH</td>\n",
       "    </tr>\n",
       "    <tr>\n",
       "      <th>67</th>\n",
       "      <td>REGION 9</td>\n",
       "    </tr>\n",
       "    <tr>\n",
       "      <th>5</th>\n",
       "      <td>DOTHAN</td>\n",
       "    </tr>\n",
       "    <tr>\n",
       "      <th>340</th>\n",
       "      <td>IOWA CITY</td>\n",
       "    </tr>\n",
       "    <tr>\n",
       "      <th>3091</th>\n",
       "      <td>LE ROY</td>\n",
       "    </tr>\n",
       "    <tr>\n",
       "      <th>3067</th>\n",
       "      <td>ROSS</td>\n",
       "    </tr>\n",
       "    <tr>\n",
       "      <th>135</th>\n",
       "      <td>LANSING</td>\n",
       "    </tr>\n",
       "    <tr>\n",
       "      <th>187</th>\n",
       "      <td>TOPEKA</td>\n",
       "    </tr>\n",
       "    <tr>\n",
       "      <th>202</th>\n",
       "      <td>KINGSTON</td>\n",
       "    </tr>\n",
       "    <tr>\n",
       "      <th>59</th>\n",
       "      <td>REGION 1</td>\n",
       "    </tr>\n",
       "    <tr>\n",
       "      <th>11</th>\n",
       "      <td>SAVANNAH</td>\n",
       "    </tr>\n",
       "    <tr>\n",
       "      <th>2727</th>\n",
       "      <td>JUNEAU</td>\n",
       "    </tr>\n",
       "    <tr>\n",
       "      <th>241</th>\n",
       "      <td>ASHFORD</td>\n",
       "    </tr>\n",
       "    <tr>\n",
       "      <th>3122</th>\n",
       "      <td>ORONO</td>\n",
       "    </tr>\n",
       "    <tr>\n",
       "      <th>2747</th>\n",
       "      <td>EDISON</td>\n",
       "    </tr>\n",
       "    <tr>\n",
       "      <th>2651</th>\n",
       "      <td>RIVERTON</td>\n",
       "    </tr>\n",
       "    <tr>\n",
       "      <th>...</th>\n",
       "      <td>...</td>\n",
       "    </tr>\n",
       "    <tr>\n",
       "      <th>183</th>\n",
       "      <td>ANCON</td>\n",
       "    </tr>\n",
       "    <tr>\n",
       "      <th>113</th>\n",
       "      <td>CLEVELAND</td>\n",
       "    </tr>\n",
       "    <tr>\n",
       "      <th>49</th>\n",
       "      <td>PITTSBURGH</td>\n",
       "    </tr>\n",
       "    <tr>\n",
       "      <th>204</th>\n",
       "      <td>FT. PIERCE</td>\n",
       "    </tr>\n",
       "    <tr>\n",
       "      <th>30</th>\n",
       "      <td>TWO CREEKS</td>\n",
       "    </tr>\n",
       "    <tr>\n",
       "      <th>37</th>\n",
       "      <td>FAIRBANKS</td>\n",
       "    </tr>\n",
       "    <tr>\n",
       "      <th>186</th>\n",
       "      <td>BOISE</td>\n",
       "    </tr>\n",
       "    <tr>\n",
       "      <th>194</th>\n",
       "      <td>WARETOWN</td>\n",
       "    </tr>\n",
       "    <tr>\n",
       "      <th>108</th>\n",
       "      <td>PORTLAND</td>\n",
       "    </tr>\n",
       "    <tr>\n",
       "      <th>42</th>\n",
       "      <td>SEATTLE</td>\n",
       "    </tr>\n",
       "    <tr>\n",
       "      <th>134</th>\n",
       "      <td>BROAD RIVER</td>\n",
       "    </tr>\n",
       "    <tr>\n",
       "      <th>56</th>\n",
       "      <td>NIAGARA FALLS</td>\n",
       "    </tr>\n",
       "    <tr>\n",
       "      <th>23</th>\n",
       "      <td>WASHINGTON</td>\n",
       "    </tr>\n",
       "    <tr>\n",
       "      <th>128</th>\n",
       "      <td>CHARLESTON</td>\n",
       "    </tr>\n",
       "    <tr>\n",
       "      <th>61</th>\n",
       "      <td>REGION 3</td>\n",
       "    </tr>\n",
       "    <tr>\n",
       "      <th>2817</th>\n",
       "      <td>TEMPE</td>\n",
       "    </tr>\n",
       "    <tr>\n",
       "      <th>124</th>\n",
       "      <td>MINOT</td>\n",
       "    </tr>\n",
       "    <tr>\n",
       "      <th>66</th>\n",
       "      <td>REGION 8</td>\n",
       "    </tr>\n",
       "    <tr>\n",
       "      <th>370</th>\n",
       "      <td>RICHMOND</td>\n",
       "    </tr>\n",
       "    <tr>\n",
       "      <th>3847</th>\n",
       "      <td>DULUTH</td>\n",
       "    </tr>\n",
       "    <tr>\n",
       "      <th>2103</th>\n",
       "      <td>RICHMOND</td>\n",
       "    </tr>\n",
       "    <tr>\n",
       "      <th>3938</th>\n",
       "      <td>ASHLAND</td>\n",
       "    </tr>\n",
       "    <tr>\n",
       "      <th>4115</th>\n",
       "      <td>SAIPAN</td>\n",
       "    </tr>\n",
       "    <tr>\n",
       "      <th>2729</th>\n",
       "      <td>GREENSBORO</td>\n",
       "    </tr>\n",
       "    <tr>\n",
       "      <th>4118</th>\n",
       "      <td>ATHENS</td>\n",
       "    </tr>\n",
       "    <tr>\n",
       "      <th>446</th>\n",
       "      <td>MARSEILLES</td>\n",
       "    </tr>\n",
       "    <tr>\n",
       "      <th>3193</th>\n",
       "      <td>JAMAICA PLAINS</td>\n",
       "    </tr>\n",
       "    <tr>\n",
       "      <th>324</th>\n",
       "      <td>PANAMA</td>\n",
       "    </tr>\n",
       "    <tr>\n",
       "      <th>2906</th>\n",
       "      <td>BUHL</td>\n",
       "    </tr>\n",
       "    <tr>\n",
       "      <th>3229</th>\n",
       "      <td>BULL RUN</td>\n",
       "    </tr>\n",
       "  </tbody>\n",
       "</table>\n",
       "<p>321 rows × 1 columns</p>\n",
       "</div>"
      ],
      "text/plain": [
       "                         V_ERAMS_LOCATION.CITY_NAME\n",
       "V_ERAMS_LOCATION.LOC_NUM                           \n",
       "180                                       NASHVILLE\n",
       "368                                      FORT WORTH\n",
       "79                                        ANCHORAGE\n",
       "3127                                      SAN DIEGO\n",
       "964                                      ST. GEORGE\n",
       "192                                         LINCOLN\n",
       "159                                         WICHITA\n",
       "182                                   MUSCLE SHOALS\n",
       "429                                            RENO\n",
       "78                                          BAYSIDE\n",
       "116                                        SYRACUSE\n",
       "119                                      DES MOINES\n",
       "27                                       HARRISBURG\n",
       "96                                    OKLAHOMA CITY\n",
       "203                                        PLYMOUTH\n",
       "67                                         REGION 9\n",
       "5                                            DOTHAN\n",
       "340                                       IOWA CITY\n",
       "3091                                         LE ROY\n",
       "3067                                           ROSS\n",
       "135                                         LANSING\n",
       "187                                          TOPEKA\n",
       "202                                        KINGSTON\n",
       "59                                         REGION 1\n",
       "11                                         SAVANNAH\n",
       "2727                                         JUNEAU\n",
       "241                                         ASHFORD\n",
       "3122                                          ORONO\n",
       "2747                                         EDISON\n",
       "2651                                       RIVERTON\n",
       "...                                             ...\n",
       "183                                           ANCON\n",
       "113                                       CLEVELAND\n",
       "49                                       PITTSBURGH\n",
       "204                                      FT. PIERCE\n",
       "30                                       TWO CREEKS\n",
       "37                                        FAIRBANKS\n",
       "186                                           BOISE\n",
       "194                                        WARETOWN\n",
       "108                                        PORTLAND\n",
       "42                                          SEATTLE\n",
       "134                                     BROAD RIVER\n",
       "56                                    NIAGARA FALLS\n",
       "23                                       WASHINGTON\n",
       "128                                      CHARLESTON\n",
       "61                                         REGION 3\n",
       "2817                                          TEMPE\n",
       "124                                           MINOT\n",
       "66                                         REGION 8\n",
       "370                                        RICHMOND\n",
       "3847                                         DULUTH\n",
       "2103                                       RICHMOND\n",
       "3938                                        ASHLAND\n",
       "4115                                         SAIPAN\n",
       "2729                                     GREENSBORO\n",
       "4118                                         ATHENS\n",
       "446                                      MARSEILLES\n",
       "3193                                 JAMAICA PLAINS\n",
       "324                                          PANAMA\n",
       "2906                                           BUHL\n",
       "3229                                       BULL RUN\n",
       "\n",
       "[321 rows x 1 columns]"
      ]
     },
     "execution_count": 23,
     "metadata": {},
     "output_type": "execute_result"
    }
   ],
   "source": [
    "pandas.DataFrame.from_csv(stream)"
   ]
  },
  {
   "cell_type": "code",
   "execution_count": 27,
   "metadata": {
    "collapsed": true
   },
   "outputs": [],
   "source": [
    "url='https://iaspub.epa.gov/enviro/efservice/tri_facility/state_abbr/VA/rows/499:504/json'"
   ]
  },
  {
   "cell_type": "code",
   "execution_count": 35,
   "metadata": {
    "collapsed": true
   },
   "outputs": [],
   "source": [
    "url='https://iaspub.epa.gov/enviro/efservice/tri_facility/state_abbr/VA/count/json'"
   ]
  },
  {
   "cell_type": "code",
   "execution_count": 36,
   "metadata": {
    "collapsed": false
   },
   "outputs": [
    {
     "data": {
      "text/plain": [
       "'[{\"TOTALQUERYRESULTS\":1146}]'"
      ]
     },
     "execution_count": 36,
     "metadata": {},
     "output_type": "execute_result"
    }
   ],
   "source": [
    "session.get(url).text"
   ]
  },
  {
   "cell_type": "code",
   "execution_count": 64,
   "metadata": {
    "collapsed": false
   },
   "outputs": [
    {
     "name": "stdout",
     "output_type": "stream",
     "text": [
      "https://iaspub.epa.gov/enviro/efservice/t_design_for_environment/JSON/rows/1:19\n",
      "https://iaspub.epa.gov/enviro/efservice/t_design_for_environment/JSON/rows/1:19\n",
      "https://iaspub.epa.gov/enviro/efservice/t_design_for_environment/JSON/rows/1:19\n"
     ]
    }
   ],
   "source": [
    "def makeurl(database,tablename,start,end):\n",
    "    return \"https://iaspub.epa.gov/enviro/{database}/{tablename}/JSON/rows/{start}:{end}\".format_map(locals())\n",
    "\n",
    "url=makeurl('efservice','t_design_for_environment',1,19)\n",
    "out=requests.get(url)\n"
   ]
  },
  {
   "cell_type": "code",
   "execution_count": 66,
   "metadata": {
    "collapsed": false
   },
   "outputs": [
    {
     "data": {
      "text/html": [
       "<div>\n",
       "<table border=\"1\" class=\"dataframe\">\n",
       "  <thead>\n",
       "    <tr style=\"text-align: right;\">\n",
       "      <th></th>\n",
       "      <th>CATEGORY</th>\n",
       "      <th>CITY</th>\n",
       "      <th>COMPANY_NAME</th>\n",
       "      <th>PARTNERSINCE</th>\n",
       "      <th>PRODUCT_NAME</th>\n",
       "      <th>SECTOR</th>\n",
       "      <th>STATE</th>\n",
       "      <th>UPCS</th>\n",
       "    </tr>\n",
       "  </thead>\n",
       "  <tbody>\n",
       "    <tr>\n",
       "      <th>0</th>\n",
       "      <td>Consumer Product</td>\n",
       "      <td>El Segundo</td>\n",
       "      <td>Fresh %26 Easy Neighborhood Market Inc.</td>\n",
       "      <td>2010</td>\n",
       "      <td>Green Things Glass Cleaner</td>\n",
       "      <td>Window/Glass Cleaners</td>\n",
       "      <td>California</td>\n",
       "      <td>None</td>\n",
       "    </tr>\n",
       "    <tr>\n",
       "      <th>1</th>\n",
       "      <td>Consumer Product</td>\n",
       "      <td>Fredonia</td>\n",
       "      <td>Guy %26 O%27Neill, Inc.</td>\n",
       "      <td>2009</td>\n",
       "      <td>Green %26 Clean Green Glass Cleaner</td>\n",
       "      <td>Window/Glass Cleaners</td>\n",
       "      <td>Wisconsin</td>\n",
       "      <td>None</td>\n",
       "    </tr>\n",
       "    <tr>\n",
       "      <th>2</th>\n",
       "      <td>Consumer Product</td>\n",
       "      <td>Newport Beach</td>\n",
       "      <td>ICB-PTY, Ltd.</td>\n",
       "      <td>2010</td>\n",
       "      <td>Earth Rescue Glass %26 Window Cleaner</td>\n",
       "      <td>Window/Glass Cleaners</td>\n",
       "      <td>California</td>\n",
       "      <td>None</td>\n",
       "    </tr>\n",
       "    <tr>\n",
       "      <th>3</th>\n",
       "      <td>Consumer Product</td>\n",
       "      <td>Cleveland</td>\n",
       "      <td>Kinzua Environmental, Inc.</td>\n",
       "      <td>2008</td>\n",
       "      <td>WOW Glass Cleaner RTU</td>\n",
       "      <td>Window/Glass Cleaners</td>\n",
       "      <td>Ohio</td>\n",
       "      <td>None</td>\n",
       "    </tr>\n",
       "    <tr>\n",
       "      <th>4</th>\n",
       "      <td>Consumer Product</td>\n",
       "      <td>Franklin</td>\n",
       "      <td>pHurity, Inc.</td>\n",
       "      <td>2008</td>\n",
       "      <td>Glass %26 High Gloss Surface Cleaner</td>\n",
       "      <td>Window/Glass Cleaners</td>\n",
       "      <td>Michigan</td>\n",
       "      <td>None</td>\n",
       "    </tr>\n",
       "    <tr>\n",
       "      <th>5</th>\n",
       "      <td>Consumer Product</td>\n",
       "      <td>Franklin</td>\n",
       "      <td>pHurity, Inc.</td>\n",
       "      <td>2008</td>\n",
       "      <td>Glass %26 High Gloss Surface Cleaner Free %26 ...</td>\n",
       "      <td>Window/Glass Cleaners</td>\n",
       "      <td>Michigan</td>\n",
       "      <td>None</td>\n",
       "    </tr>\n",
       "    <tr>\n",
       "      <th>6</th>\n",
       "      <td>Consumer Product</td>\n",
       "      <td>Franklin</td>\n",
       "      <td>pHurity, Inc.</td>\n",
       "      <td>2008</td>\n",
       "      <td>Glass Cleaner</td>\n",
       "      <td>Window/Glass Cleaners</td>\n",
       "      <td>Michigan</td>\n",
       "      <td>None</td>\n",
       "    </tr>\n",
       "    <tr>\n",
       "      <th>7</th>\n",
       "      <td>Consumer Product</td>\n",
       "      <td>Roseville</td>\n",
       "      <td>PRIDE Industries</td>\n",
       "      <td>2009</td>\n",
       "      <td>PRIDEClean Glass %26 Mirror Cleaner</td>\n",
       "      <td>Window/Glass Cleaners</td>\n",
       "      <td>California</td>\n",
       "      <td>782900230236, 782900013013</td>\n",
       "    </tr>\n",
       "    <tr>\n",
       "      <th>8</th>\n",
       "      <td>Consumer Product</td>\n",
       "      <td>Hempstead</td>\n",
       "      <td>Professional Sanitary Industries</td>\n",
       "      <td>2016</td>\n",
       "      <td>ProSan Glass Master Glass %26 Window Cleaner</td>\n",
       "      <td>Window/Glass Cleaners</td>\n",
       "      <td>New York</td>\n",
       "      <td>None</td>\n",
       "    </tr>\n",
       "    <tr>\n",
       "      <th>9</th>\n",
       "      <td>Consumer Product</td>\n",
       "      <td>Pleasanton</td>\n",
       "      <td>Safeway Inc.</td>\n",
       "      <td>2012</td>\n",
       "      <td>Bright Green Glass %26 Surface Cleaner</td>\n",
       "      <td>Window/Glass Cleaners</td>\n",
       "      <td>California</td>\n",
       "      <td>843560000697, 079893200071</td>\n",
       "    </tr>\n",
       "    <tr>\n",
       "      <th>10</th>\n",
       "      <td>Consumer Product</td>\n",
       "      <td>Oakland</td>\n",
       "      <td>Serenade Solutions LLC</td>\n",
       "      <td>2015</td>\n",
       "      <td>Serenade Key 64 Green Glass %26 Surface Concen...</td>\n",
       "      <td>Window/Glass Cleaners</td>\n",
       "      <td>California</td>\n",
       "      <td>1818SYM</td>\n",
       "    </tr>\n",
       "    <tr>\n",
       "      <th>11</th>\n",
       "      <td>Consumer Product</td>\n",
       "      <td>Oakland</td>\n",
       "      <td>Serenade Solutions LLC</td>\n",
       "      <td>2015</td>\n",
       "      <td>Serenade Key Green Glass %26 Surface Cleaner</td>\n",
       "      <td>Window/Glass Cleaners</td>\n",
       "      <td>California</td>\n",
       "      <td>1819SYM</td>\n",
       "    </tr>\n",
       "    <tr>\n",
       "      <th>12</th>\n",
       "      <td>Consumer Product</td>\n",
       "      <td>Framingham</td>\n",
       "      <td>Staples Contract %26 Commercial, Inc.</td>\n",
       "      <td>2004</td>\n",
       "      <td>Sustainable Earth Glass Cleaner (RTU)</td>\n",
       "      <td>Window/Glass Cleaners</td>\n",
       "      <td>Massachusetts</td>\n",
       "      <td>None</td>\n",
       "    </tr>\n",
       "    <tr>\n",
       "      <th>13</th>\n",
       "      <td>Consumer Product</td>\n",
       "      <td>Rochester</td>\n",
       "      <td>Wegmans</td>\n",
       "      <td>2014</td>\n",
       "      <td>Glass Cleaner</td>\n",
       "      <td>Window/Glass Cleaners</td>\n",
       "      <td>New York</td>\n",
       "      <td>77890347843</td>\n",
       "    </tr>\n",
       "    <tr>\n",
       "      <th>14</th>\n",
       "      <td>Consumer Product</td>\n",
       "      <td>Wood Dale</td>\n",
       "      <td>Earth Friendly Products</td>\n",
       "      <td>2008</td>\n",
       "      <td>Furniture Polish</td>\n",
       "      <td>Wood Cleaners</td>\n",
       "      <td>Illinois</td>\n",
       "      <td>749174097316, 749174973139, 749174497314</td>\n",
       "    </tr>\n",
       "    <tr>\n",
       "      <th>15</th>\n",
       "      <td>Consumer Product</td>\n",
       "      <td>Wood Dale</td>\n",
       "      <td>Earth Friendly Products</td>\n",
       "      <td>2008</td>\n",
       "      <td>WaveJet Rinse Aid</td>\n",
       "      <td>Rinse Aids</td>\n",
       "      <td>Illinois</td>\n",
       "      <td>74917497477</td>\n",
       "    </tr>\n",
       "    <tr>\n",
       "      <th>16</th>\n",
       "      <td>Consumer Product</td>\n",
       "      <td>Istanbul</td>\n",
       "      <td>Friendly Organic LLC-BST Ltd.</td>\n",
       "      <td>2013</td>\n",
       "      <td>Rinse Aid</td>\n",
       "      <td>Rinse Aids</td>\n",
       "      <td>None</td>\n",
       "      <td>8.68009E+12</td>\n",
       "    </tr>\n",
       "    <tr>\n",
       "      <th>17</th>\n",
       "      <td>Consumer Product</td>\n",
       "      <td>Santa Monica</td>\n",
       "      <td>Honest Company</td>\n",
       "      <td>2012</td>\n",
       "      <td>Honest Rinse Aid</td>\n",
       "      <td>Rinse Aids</td>\n",
       "      <td>California</td>\n",
       "      <td>None</td>\n",
       "    </tr>\n",
       "    <tr>\n",
       "      <th>18</th>\n",
       "      <td>Consumer Product</td>\n",
       "      <td>Newport Beach</td>\n",
       "      <td>ICB-PTY, Ltd.</td>\n",
       "      <td>2010</td>\n",
       "      <td>Earth Rescue Auto Dishwasher Rinse Aid</td>\n",
       "      <td>Rinse Aids</td>\n",
       "      <td>California</td>\n",
       "      <td>None</td>\n",
       "    </tr>\n",
       "  </tbody>\n",
       "</table>\n",
       "</div>"
      ],
      "text/plain": [
       "            CATEGORY           CITY                             COMPANY_NAME  \\\n",
       "0   Consumer Product     El Segundo  Fresh %26 Easy Neighborhood Market Inc.   \n",
       "1   Consumer Product       Fredonia                  Guy %26 O%27Neill, Inc.   \n",
       "2   Consumer Product  Newport Beach                            ICB-PTY, Ltd.   \n",
       "3   Consumer Product      Cleveland               Kinzua Environmental, Inc.   \n",
       "4   Consumer Product       Franklin                            pHurity, Inc.   \n",
       "5   Consumer Product       Franklin                            pHurity, Inc.   \n",
       "6   Consumer Product       Franklin                            pHurity, Inc.   \n",
       "7   Consumer Product      Roseville                         PRIDE Industries   \n",
       "8   Consumer Product      Hempstead         Professional Sanitary Industries   \n",
       "9   Consumer Product     Pleasanton                             Safeway Inc.   \n",
       "10  Consumer Product        Oakland                   Serenade Solutions LLC   \n",
       "11  Consumer Product        Oakland                   Serenade Solutions LLC   \n",
       "12  Consumer Product     Framingham    Staples Contract %26 Commercial, Inc.   \n",
       "13  Consumer Product      Rochester                                  Wegmans   \n",
       "14  Consumer Product      Wood Dale                  Earth Friendly Products   \n",
       "15  Consumer Product      Wood Dale                  Earth Friendly Products   \n",
       "16  Consumer Product       Istanbul            Friendly Organic LLC-BST Ltd.   \n",
       "17  Consumer Product   Santa Monica                           Honest Company   \n",
       "18  Consumer Product  Newport Beach                            ICB-PTY, Ltd.   \n",
       "\n",
       "    PARTNERSINCE                                       PRODUCT_NAME  \\\n",
       "0           2010                         Green Things Glass Cleaner   \n",
       "1           2009                Green %26 Clean Green Glass Cleaner   \n",
       "2           2010              Earth Rescue Glass %26 Window Cleaner   \n",
       "3           2008                              WOW Glass Cleaner RTU   \n",
       "4           2008               Glass %26 High Gloss Surface Cleaner   \n",
       "5           2008  Glass %26 High Gloss Surface Cleaner Free %26 ...   \n",
       "6           2008                                      Glass Cleaner   \n",
       "7           2009                PRIDEClean Glass %26 Mirror Cleaner   \n",
       "8           2016       ProSan Glass Master Glass %26 Window Cleaner   \n",
       "9           2012             Bright Green Glass %26 Surface Cleaner   \n",
       "10          2015  Serenade Key 64 Green Glass %26 Surface Concen...   \n",
       "11          2015       Serenade Key Green Glass %26 Surface Cleaner   \n",
       "12          2004              Sustainable Earth Glass Cleaner (RTU)   \n",
       "13          2014                                      Glass Cleaner   \n",
       "14          2008                                   Furniture Polish   \n",
       "15          2008                                  WaveJet Rinse Aid   \n",
       "16          2013                                          Rinse Aid   \n",
       "17          2012                                   Honest Rinse Aid   \n",
       "18          2010             Earth Rescue Auto Dishwasher Rinse Aid   \n",
       "\n",
       "                   SECTOR          STATE  \\\n",
       "0   Window/Glass Cleaners     California   \n",
       "1   Window/Glass Cleaners      Wisconsin   \n",
       "2   Window/Glass Cleaners     California   \n",
       "3   Window/Glass Cleaners           Ohio   \n",
       "4   Window/Glass Cleaners       Michigan   \n",
       "5   Window/Glass Cleaners       Michigan   \n",
       "6   Window/Glass Cleaners       Michigan   \n",
       "7   Window/Glass Cleaners     California   \n",
       "8   Window/Glass Cleaners       New York   \n",
       "9   Window/Glass Cleaners     California   \n",
       "10  Window/Glass Cleaners     California   \n",
       "11  Window/Glass Cleaners     California   \n",
       "12  Window/Glass Cleaners  Massachusetts   \n",
       "13  Window/Glass Cleaners       New York   \n",
       "14          Wood Cleaners       Illinois   \n",
       "15             Rinse Aids       Illinois   \n",
       "16             Rinse Aids           None   \n",
       "17             Rinse Aids     California   \n",
       "18             Rinse Aids     California   \n",
       "\n",
       "                                        UPCS  \n",
       "0                                       None  \n",
       "1                                       None  \n",
       "2                                       None  \n",
       "3                                       None  \n",
       "4                                       None  \n",
       "5                                       None  \n",
       "6                                       None  \n",
       "7                 782900230236, 782900013013  \n",
       "8                                       None  \n",
       "9                 843560000697, 079893200071  \n",
       "10                                   1818SYM  \n",
       "11                                   1819SYM  \n",
       "12                                      None  \n",
       "13                               77890347843  \n",
       "14  749174097316, 749174973139, 749174497314  \n",
       "15                               74917497477  \n",
       "16                               8.68009E+12  \n",
       "17                                      None  \n",
       "18                                      None  "
      ]
     },
     "execution_count": 66,
     "metadata": {},
     "output_type": "execute_result"
    }
   ],
   "source": [
    "pandas.DataFrame(out.json())"
   ]
  },
  {
   "cell_type": "code",
   "execution_count": 41,
   "metadata": {
    "collapsed": true
   },
   "outputs": [],
   "source": [
    "url='https://iaspub.epa.gov/enviro/efservice/tri_facility/state_abbr/VA/rows/499:504/json'"
   ]
  },
  {
   "cell_type": "code",
   "execution_count": 83,
   "metadata": {
    "collapsed": true
   },
   "outputs": [],
   "source": [
    "def table_count(tablename):\n",
    "    url= \"https://iaspub.epa.gov/enviro/efservice/{tablename}/COUNT/JSON\".format_map(locals())\n",
    "    print(url)\n",
    "    return session.get(url).json()[0]['TOTALQUERYRESULTS']"
   ]
  },
  {
   "cell_type": "code",
   "execution_count": 84,
   "metadata": {
    "collapsed": false
   },
   "outputs": [
    {
     "name": "stdout",
     "output_type": "stream",
     "text": [
      "https://iaspub.epa.gov/enviro/efservice/erm_project/COUNT/JSON\n"
     ]
    },
    {
     "data": {
      "text/plain": [
       "1052"
      ]
     },
     "execution_count": 84,
     "metadata": {},
     "output_type": "execute_result"
    }
   ],
   "source": [
    "table_count('erm_project')"
   ]
  },
  {
   "cell_type": "code",
   "execution_count": 79,
   "metadata": {
    "collapsed": true
   },
   "outputs": [],
   "source": [
    "url='https://iaspub.epa.gov/enviro/efservice/ERM_RESULT/COUNT/JSON'"
   ]
  },
  {
   "cell_type": "code",
   "execution_count": 80,
   "metadata": {
    "collapsed": false
   },
   "outputs": [
    {
     "data": {
      "text/plain": [
       "<Response [200]>"
      ]
     },
     "execution_count": 80,
     "metadata": {},
     "output_type": "execute_result"
    }
   ],
   "source": [
    "session.get(url)"
   ]
  },
  {
   "cell_type": "code",
   "execution_count": 81,
   "metadata": {
    "collapsed": false
   },
   "outputs": [
    {
     "data": {
      "text/plain": [
       "'[{\"TOTALQUERYRESULTS\":504535}]'"
      ]
     },
     "execution_count": 81,
     "metadata": {},
     "output_type": "execute_result"
    }
   ],
   "source": [
    "_.text"
   ]
  },
  {
   "cell_type": "code",
   "execution_count": 77,
   "metadata": {
    "collapsed": false
   },
   "outputs": [
    {
     "data": {
      "text/plain": [
       "2502"
      ]
     },
     "execution_count": 77,
     "metadata": {},
     "output_type": "execute_result"
    }
   ],
   "source": [
    "table_count('efservice','t_design_for_environment')"
   ]
  },
  {
   "cell_type": "code",
   "execution_count": 87,
   "metadata": {
    "collapsed": true
   },
   "outputs": [],
   "source": [
    " \n",
    "tablenames=[\n",
    "    'ERM_RESULT',\n",
    "    'ERM_ANALYSIS',\n",
    "    'ERM_COUNT',\n",
    "    'ERM_SAMPLE',\n",
    "    'ERM_MATRIX',\n",
    "    'ERM_LOCATION',\n",
    "    'ERM_PROJECT',\n",
    "    'ERM_STUDY',\n",
    "    'ERM_ANALYTE',\n",
    "    'ERM_ANA_PROC',\n",
    "    'ERM_DET_TYPE'\n",
    "]"
   ]
  },
  {
   "cell_type": "code",
   "execution_count": 88,
   "metadata": {
    "collapsed": false
   },
   "outputs": [
    {
     "name": "stdout",
     "output_type": "stream",
     "text": [
      "https://iaspub.epa.gov/enviro/efservice/ERM_RESULT/COUNT/JSON\n",
      "ERM_RESULT 504535\n",
      "https://iaspub.epa.gov/enviro/efservice/ERM_ANALYSIS/COUNT/JSON\n",
      "ERM_ANALYSIS 320561\n",
      "https://iaspub.epa.gov/enviro/efservice/ERM_COUNT/COUNT/JSON\n",
      "ERM_COUNT 313861\n",
      "https://iaspub.epa.gov/enviro/efservice/ERM_SAMPLE/COUNT/JSON\n",
      "ERM_SAMPLE 274214\n",
      "https://iaspub.epa.gov/enviro/efservice/ERM_MATRIX/COUNT/JSON\n",
      "ERM_MATRIX 6\n",
      "https://iaspub.epa.gov/enviro/efservice/ERM_LOCATION/COUNT/JSON\n",
      "ERM_LOCATION 329\n",
      "https://iaspub.epa.gov/enviro/efservice/ERM_PROJECT/COUNT/JSON\n",
      "ERM_PROJECT 1052\n",
      "https://iaspub.epa.gov/enviro/efservice/ERM_STUDY/COUNT/JSON\n",
      "ERM_STUDY 10\n",
      "https://iaspub.epa.gov/enviro/efservice/ERM_ANALYTE/COUNT/JSON\n",
      "ERM_ANALYTE 65\n",
      "https://iaspub.epa.gov/enviro/efservice/ERM_ANA_PROC/COUNT/JSON\n",
      "ERM_ANA_PROC 171\n",
      "https://iaspub.epa.gov/enviro/efservice/ERM_DET_TYPE/COUNT/JSON\n",
      "ERM_DET_TYPE 412\n"
     ]
    }
   ],
   "source": [
    "\n",
    "for table in tablenames:\n",
    "    print(table, table_count(table))"
   ]
  },
  {
   "cell_type": "code",
   "execution_count": null,
   "metadata": {
    "collapsed": true
   },
   "outputs": [],
   "source": []
  }
 ],
 "metadata": {
  "kernelspec": {
   "display_name": "Python 3",
   "language": "python",
   "name": "python3"
  },
  "language_info": {
   "codemirror_mode": {
    "name": "ipython",
    "version": 3
   },
   "file_extension": ".py",
   "mimetype": "text/x-python",
   "name": "python",
   "nbconvert_exporter": "python",
   "pygments_lexer": "ipython3",
   "version": "3.5.2"
  }
 },
 "nbformat": 4,
 "nbformat_minor": 0
}
