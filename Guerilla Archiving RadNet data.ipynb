{
 "cells": [
  {
   "cell_type": "markdown",
   "metadata": {},
   "source": [
    "# Exploring extracting data from the EPA web service\n",
    "\n",
    "https://www.epa.gov/enviro/web-services"
   ]
  },
  {
   "cell_type": "code",
   "execution_count": 3,
   "metadata": {
    "collapsed": true
   },
   "outputs": [],
   "source": [
    "import requests\n",
    "import io\n",
    "import pandas"
   ]
  },
  {
   "cell_type": "code",
   "execution_count": 4,
   "metadata": {
    "collapsed": true
   },
   "outputs": [],
   "source": [
    "url='https://iaspub.epa.gov/enviro/efservice/tri_facility/state_abbr/VA/rows/499:504/json'"
   ]
  },
  {
   "cell_type": "code",
   "execution_count": 5,
   "metadata": {
    "collapsed": true
   },
   "outputs": [],
   "source": [
    "url='https://iaspub.epa.gov/enviro/efservice/tri_facility/state_abbr/VA/count/json'"
   ]
  },
  {
   "cell_type": "code",
   "execution_count": 6,
   "metadata": {
    "collapsed": false
   },
   "outputs": [
    {
     "data": {
      "text/plain": [
       "'[{\"TOTALQUERYRESULTS\":1146}]'"
      ]
     },
     "execution_count": 6,
     "metadata": {},
     "output_type": "execute_result"
    }
   ],
   "source": [
    "requests.get(url).text"
   ]
  },
  {
   "cell_type": "code",
   "execution_count": 7,
   "metadata": {
    "collapsed": false
   },
   "outputs": [],
   "source": [
    "def makeurl(database,tablename,start,end):\n",
    "    return \"https://iaspub.epa.gov/enviro/{database}/{tablename}/JSON/rows/{start}:{end}\".format_map(locals())\n",
    "\n",
    "url=makeurl('efservice','t_design_for_environment',1,19)\n",
    "out=requests.get(url)\n"
   ]
  },
  {
   "cell_type": "code",
   "execution_count": 8,
   "metadata": {
    "collapsed": false
   },
   "outputs": [
    {
     "data": {
      "text/html": [
       "<div>\n",
       "<table border=\"1\" class=\"dataframe\">\n",
       "  <thead>\n",
       "    <tr style=\"text-align: right;\">\n",
       "      <th></th>\n",
       "      <th>CATEGORY</th>\n",
       "      <th>CITY</th>\n",
       "      <th>COMPANY_NAME</th>\n",
       "      <th>PARTNERSINCE</th>\n",
       "      <th>PRODUCT_NAME</th>\n",
       "      <th>SECTOR</th>\n",
       "      <th>STATE</th>\n",
       "      <th>UPCS</th>\n",
       "    </tr>\n",
       "  </thead>\n",
       "  <tbody>\n",
       "    <tr>\n",
       "      <th>0</th>\n",
       "      <td>Consumer Product</td>\n",
       "      <td>El Segundo</td>\n",
       "      <td>Fresh %26 Easy Neighborhood Market Inc.</td>\n",
       "      <td>2010</td>\n",
       "      <td>Green Things Glass Cleaner</td>\n",
       "      <td>Window/Glass Cleaners</td>\n",
       "      <td>California</td>\n",
       "      <td>None</td>\n",
       "    </tr>\n",
       "    <tr>\n",
       "      <th>1</th>\n",
       "      <td>Consumer Product</td>\n",
       "      <td>Fredonia</td>\n",
       "      <td>Guy %26 O%27Neill, Inc.</td>\n",
       "      <td>2009</td>\n",
       "      <td>Green %26 Clean Green Glass Cleaner</td>\n",
       "      <td>Window/Glass Cleaners</td>\n",
       "      <td>Wisconsin</td>\n",
       "      <td>None</td>\n",
       "    </tr>\n",
       "    <tr>\n",
       "      <th>2</th>\n",
       "      <td>Consumer Product</td>\n",
       "      <td>Newport Beach</td>\n",
       "      <td>ICB-PTY, Ltd.</td>\n",
       "      <td>2010</td>\n",
       "      <td>Earth Rescue Glass %26 Window Cleaner</td>\n",
       "      <td>Window/Glass Cleaners</td>\n",
       "      <td>California</td>\n",
       "      <td>None</td>\n",
       "    </tr>\n",
       "    <tr>\n",
       "      <th>3</th>\n",
       "      <td>Consumer Product</td>\n",
       "      <td>Cleveland</td>\n",
       "      <td>Kinzua Environmental, Inc.</td>\n",
       "      <td>2008</td>\n",
       "      <td>WOW Glass Cleaner RTU</td>\n",
       "      <td>Window/Glass Cleaners</td>\n",
       "      <td>Ohio</td>\n",
       "      <td>None</td>\n",
       "    </tr>\n",
       "    <tr>\n",
       "      <th>4</th>\n",
       "      <td>Consumer Product</td>\n",
       "      <td>Franklin</td>\n",
       "      <td>pHurity, Inc.</td>\n",
       "      <td>2008</td>\n",
       "      <td>Glass %26 High Gloss Surface Cleaner</td>\n",
       "      <td>Window/Glass Cleaners</td>\n",
       "      <td>Michigan</td>\n",
       "      <td>None</td>\n",
       "    </tr>\n",
       "    <tr>\n",
       "      <th>5</th>\n",
       "      <td>Consumer Product</td>\n",
       "      <td>Franklin</td>\n",
       "      <td>pHurity, Inc.</td>\n",
       "      <td>2008</td>\n",
       "      <td>Glass %26 High Gloss Surface Cleaner Free %26 ...</td>\n",
       "      <td>Window/Glass Cleaners</td>\n",
       "      <td>Michigan</td>\n",
       "      <td>None</td>\n",
       "    </tr>\n",
       "    <tr>\n",
       "      <th>6</th>\n",
       "      <td>Consumer Product</td>\n",
       "      <td>Franklin</td>\n",
       "      <td>pHurity, Inc.</td>\n",
       "      <td>2008</td>\n",
       "      <td>Glass Cleaner</td>\n",
       "      <td>Window/Glass Cleaners</td>\n",
       "      <td>Michigan</td>\n",
       "      <td>None</td>\n",
       "    </tr>\n",
       "    <tr>\n",
       "      <th>7</th>\n",
       "      <td>Consumer Product</td>\n",
       "      <td>Roseville</td>\n",
       "      <td>PRIDE Industries</td>\n",
       "      <td>2009</td>\n",
       "      <td>PRIDEClean Glass %26 Mirror Cleaner</td>\n",
       "      <td>Window/Glass Cleaners</td>\n",
       "      <td>California</td>\n",
       "      <td>782900230236, 782900013013</td>\n",
       "    </tr>\n",
       "    <tr>\n",
       "      <th>8</th>\n",
       "      <td>Consumer Product</td>\n",
       "      <td>Hempstead</td>\n",
       "      <td>Professional Sanitary Industries</td>\n",
       "      <td>2016</td>\n",
       "      <td>ProSan Glass Master Glass %26 Window Cleaner</td>\n",
       "      <td>Window/Glass Cleaners</td>\n",
       "      <td>New York</td>\n",
       "      <td>None</td>\n",
       "    </tr>\n",
       "    <tr>\n",
       "      <th>9</th>\n",
       "      <td>Consumer Product</td>\n",
       "      <td>Pleasanton</td>\n",
       "      <td>Safeway Inc.</td>\n",
       "      <td>2012</td>\n",
       "      <td>Bright Green Glass %26 Surface Cleaner</td>\n",
       "      <td>Window/Glass Cleaners</td>\n",
       "      <td>California</td>\n",
       "      <td>843560000697, 079893200071</td>\n",
       "    </tr>\n",
       "    <tr>\n",
       "      <th>10</th>\n",
       "      <td>Consumer Product</td>\n",
       "      <td>Oakland</td>\n",
       "      <td>Serenade Solutions LLC</td>\n",
       "      <td>2015</td>\n",
       "      <td>Serenade Key 64 Green Glass %26 Surface Concen...</td>\n",
       "      <td>Window/Glass Cleaners</td>\n",
       "      <td>California</td>\n",
       "      <td>1818SYM</td>\n",
       "    </tr>\n",
       "    <tr>\n",
       "      <th>11</th>\n",
       "      <td>Consumer Product</td>\n",
       "      <td>Oakland</td>\n",
       "      <td>Serenade Solutions LLC</td>\n",
       "      <td>2015</td>\n",
       "      <td>Serenade Key Green Glass %26 Surface Cleaner</td>\n",
       "      <td>Window/Glass Cleaners</td>\n",
       "      <td>California</td>\n",
       "      <td>1819SYM</td>\n",
       "    </tr>\n",
       "    <tr>\n",
       "      <th>12</th>\n",
       "      <td>Consumer Product</td>\n",
       "      <td>Framingham</td>\n",
       "      <td>Staples Contract %26 Commercial, Inc.</td>\n",
       "      <td>2004</td>\n",
       "      <td>Sustainable Earth Glass Cleaner (RTU)</td>\n",
       "      <td>Window/Glass Cleaners</td>\n",
       "      <td>Massachusetts</td>\n",
       "      <td>None</td>\n",
       "    </tr>\n",
       "    <tr>\n",
       "      <th>13</th>\n",
       "      <td>Consumer Product</td>\n",
       "      <td>Rochester</td>\n",
       "      <td>Wegmans</td>\n",
       "      <td>2014</td>\n",
       "      <td>Glass Cleaner</td>\n",
       "      <td>Window/Glass Cleaners</td>\n",
       "      <td>New York</td>\n",
       "      <td>77890347843</td>\n",
       "    </tr>\n",
       "    <tr>\n",
       "      <th>14</th>\n",
       "      <td>Consumer Product</td>\n",
       "      <td>Wood Dale</td>\n",
       "      <td>Earth Friendly Products</td>\n",
       "      <td>2008</td>\n",
       "      <td>Furniture Polish</td>\n",
       "      <td>Wood Cleaners</td>\n",
       "      <td>Illinois</td>\n",
       "      <td>749174097316, 749174973139, 749174497314</td>\n",
       "    </tr>\n",
       "    <tr>\n",
       "      <th>15</th>\n",
       "      <td>Consumer Product</td>\n",
       "      <td>Wood Dale</td>\n",
       "      <td>Earth Friendly Products</td>\n",
       "      <td>2008</td>\n",
       "      <td>WaveJet Rinse Aid</td>\n",
       "      <td>Rinse Aids</td>\n",
       "      <td>Illinois</td>\n",
       "      <td>74917497477</td>\n",
       "    </tr>\n",
       "    <tr>\n",
       "      <th>16</th>\n",
       "      <td>Consumer Product</td>\n",
       "      <td>Istanbul</td>\n",
       "      <td>Friendly Organic LLC-BST Ltd.</td>\n",
       "      <td>2013</td>\n",
       "      <td>Rinse Aid</td>\n",
       "      <td>Rinse Aids</td>\n",
       "      <td>None</td>\n",
       "      <td>8.68009E+12</td>\n",
       "    </tr>\n",
       "    <tr>\n",
       "      <th>17</th>\n",
       "      <td>Consumer Product</td>\n",
       "      <td>Santa Monica</td>\n",
       "      <td>Honest Company</td>\n",
       "      <td>2012</td>\n",
       "      <td>Honest Rinse Aid</td>\n",
       "      <td>Rinse Aids</td>\n",
       "      <td>California</td>\n",
       "      <td>None</td>\n",
       "    </tr>\n",
       "    <tr>\n",
       "      <th>18</th>\n",
       "      <td>Consumer Product</td>\n",
       "      <td>Newport Beach</td>\n",
       "      <td>ICB-PTY, Ltd.</td>\n",
       "      <td>2010</td>\n",
       "      <td>Earth Rescue Auto Dishwasher Rinse Aid</td>\n",
       "      <td>Rinse Aids</td>\n",
       "      <td>California</td>\n",
       "      <td>None</td>\n",
       "    </tr>\n",
       "  </tbody>\n",
       "</table>\n",
       "</div>"
      ],
      "text/plain": [
       "            CATEGORY           CITY                             COMPANY_NAME  \\\n",
       "0   Consumer Product     El Segundo  Fresh %26 Easy Neighborhood Market Inc.   \n",
       "1   Consumer Product       Fredonia                  Guy %26 O%27Neill, Inc.   \n",
       "2   Consumer Product  Newport Beach                            ICB-PTY, Ltd.   \n",
       "3   Consumer Product      Cleveland               Kinzua Environmental, Inc.   \n",
       "4   Consumer Product       Franklin                            pHurity, Inc.   \n",
       "5   Consumer Product       Franklin                            pHurity, Inc.   \n",
       "6   Consumer Product       Franklin                            pHurity, Inc.   \n",
       "7   Consumer Product      Roseville                         PRIDE Industries   \n",
       "8   Consumer Product      Hempstead         Professional Sanitary Industries   \n",
       "9   Consumer Product     Pleasanton                             Safeway Inc.   \n",
       "10  Consumer Product        Oakland                   Serenade Solutions LLC   \n",
       "11  Consumer Product        Oakland                   Serenade Solutions LLC   \n",
       "12  Consumer Product     Framingham    Staples Contract %26 Commercial, Inc.   \n",
       "13  Consumer Product      Rochester                                  Wegmans   \n",
       "14  Consumer Product      Wood Dale                  Earth Friendly Products   \n",
       "15  Consumer Product      Wood Dale                  Earth Friendly Products   \n",
       "16  Consumer Product       Istanbul            Friendly Organic LLC-BST Ltd.   \n",
       "17  Consumer Product   Santa Monica                           Honest Company   \n",
       "18  Consumer Product  Newport Beach                            ICB-PTY, Ltd.   \n",
       "\n",
       "    PARTNERSINCE                                       PRODUCT_NAME  \\\n",
       "0           2010                         Green Things Glass Cleaner   \n",
       "1           2009                Green %26 Clean Green Glass Cleaner   \n",
       "2           2010              Earth Rescue Glass %26 Window Cleaner   \n",
       "3           2008                              WOW Glass Cleaner RTU   \n",
       "4           2008               Glass %26 High Gloss Surface Cleaner   \n",
       "5           2008  Glass %26 High Gloss Surface Cleaner Free %26 ...   \n",
       "6           2008                                      Glass Cleaner   \n",
       "7           2009                PRIDEClean Glass %26 Mirror Cleaner   \n",
       "8           2016       ProSan Glass Master Glass %26 Window Cleaner   \n",
       "9           2012             Bright Green Glass %26 Surface Cleaner   \n",
       "10          2015  Serenade Key 64 Green Glass %26 Surface Concen...   \n",
       "11          2015       Serenade Key Green Glass %26 Surface Cleaner   \n",
       "12          2004              Sustainable Earth Glass Cleaner (RTU)   \n",
       "13          2014                                      Glass Cleaner   \n",
       "14          2008                                   Furniture Polish   \n",
       "15          2008                                  WaveJet Rinse Aid   \n",
       "16          2013                                          Rinse Aid   \n",
       "17          2012                                   Honest Rinse Aid   \n",
       "18          2010             Earth Rescue Auto Dishwasher Rinse Aid   \n",
       "\n",
       "                   SECTOR          STATE  \\\n",
       "0   Window/Glass Cleaners     California   \n",
       "1   Window/Glass Cleaners      Wisconsin   \n",
       "2   Window/Glass Cleaners     California   \n",
       "3   Window/Glass Cleaners           Ohio   \n",
       "4   Window/Glass Cleaners       Michigan   \n",
       "5   Window/Glass Cleaners       Michigan   \n",
       "6   Window/Glass Cleaners       Michigan   \n",
       "7   Window/Glass Cleaners     California   \n",
       "8   Window/Glass Cleaners       New York   \n",
       "9   Window/Glass Cleaners     California   \n",
       "10  Window/Glass Cleaners     California   \n",
       "11  Window/Glass Cleaners     California   \n",
       "12  Window/Glass Cleaners  Massachusetts   \n",
       "13  Window/Glass Cleaners       New York   \n",
       "14          Wood Cleaners       Illinois   \n",
       "15             Rinse Aids       Illinois   \n",
       "16             Rinse Aids           None   \n",
       "17             Rinse Aids     California   \n",
       "18             Rinse Aids     California   \n",
       "\n",
       "                                        UPCS  \n",
       "0                                       None  \n",
       "1                                       None  \n",
       "2                                       None  \n",
       "3                                       None  \n",
       "4                                       None  \n",
       "5                                       None  \n",
       "6                                       None  \n",
       "7                 782900230236, 782900013013  \n",
       "8                                       None  \n",
       "9                 843560000697, 079893200071  \n",
       "10                                   1818SYM  \n",
       "11                                   1819SYM  \n",
       "12                                      None  \n",
       "13                               77890347843  \n",
       "14  749174097316, 749174973139, 749174497314  \n",
       "15                               74917497477  \n",
       "16                               8.68009E+12  \n",
       "17                                      None  \n",
       "18                                      None  "
      ]
     },
     "execution_count": 8,
     "metadata": {},
     "output_type": "execute_result"
    }
   ],
   "source": [
    "pandas.DataFrame(out.json())"
   ]
  },
  {
   "cell_type": "code",
   "execution_count": 11,
   "metadata": {
    "collapsed": true
   },
   "outputs": [],
   "source": [
    "def table_count(tablename):\n",
    "    url= \"https://iaspub.epa.gov/enviro/efservice/{tablename}/COUNT/JSON\".format_map(locals())\n",
    "    print(url)\n",
    "    return requests.get(url).json()[0]['TOTALQUERYRESULTS']"
   ]
  },
  {
   "cell_type": "code",
   "execution_count": 12,
   "metadata": {
    "collapsed": false
   },
   "outputs": [
    {
     "name": "stdout",
     "output_type": "stream",
     "text": [
      "https://iaspub.epa.gov/enviro/efservice/erm_project/COUNT/JSON\n"
     ]
    },
    {
     "data": {
      "text/plain": [
       "1052"
      ]
     },
     "execution_count": 12,
     "metadata": {},
     "output_type": "execute_result"
    }
   ],
   "source": [
    "table_count('erm_project')"
   ]
  },
  {
   "cell_type": "code",
   "execution_count": 13,
   "metadata": {
    "collapsed": true
   },
   "outputs": [],
   "source": [
    "url='https://iaspub.epa.gov/enviro/efservice/ERM_RESULT/COUNT/JSON'"
   ]
  },
  {
   "cell_type": "code",
   "execution_count": 15,
   "metadata": {
    "collapsed": false
   },
   "outputs": [
    {
     "name": "stdout",
     "output_type": "stream",
     "text": [
      "https://iaspub.epa.gov/enviro/efservice/t_design_for_environment/COUNT/JSON\n"
     ]
    },
    {
     "data": {
      "text/plain": [
       "2502"
      ]
     },
     "execution_count": 15,
     "metadata": {},
     "output_type": "execute_result"
    }
   ],
   "source": [
    "table_count('t_design_for_environment')"
   ]
  },
  {
   "cell_type": "code",
   "execution_count": 16,
   "metadata": {
    "collapsed": true
   },
   "outputs": [],
   "source": [
    " \n",
    "tablenames=[\n",
    "    'ERM_RESULT',\n",
    "    'ERM_ANALYSIS',\n",
    "    'ERM_COUNT',\n",
    "    'ERM_SAMPLE',\n",
    "    'ERM_MATRIX',\n",
    "    'ERM_LOCATION',\n",
    "    'ERM_PROJECT',\n",
    "    'ERM_STUDY',\n",
    "    'ERM_ANALYTE',\n",
    "    'ERM_ANA_PROC',\n",
    "    'ERM_DET_TYPE'\n",
    "]"
   ]
  },
  {
   "cell_type": "code",
   "execution_count": 88,
   "metadata": {
    "collapsed": false
   },
   "outputs": [
    {
     "name": "stdout",
     "output_type": "stream",
     "text": [
      "https://iaspub.epa.gov/enviro/efservice/ERM_RESULT/COUNT/JSON\n",
      "ERM_RESULT 504535\n",
      "https://iaspub.epa.gov/enviro/efservice/ERM_ANALYSIS/COUNT/JSON\n",
      "ERM_ANALYSIS 320561\n",
      "https://iaspub.epa.gov/enviro/efservice/ERM_COUNT/COUNT/JSON\n",
      "ERM_COUNT 313861\n",
      "https://iaspub.epa.gov/enviro/efservice/ERM_SAMPLE/COUNT/JSON\n",
      "ERM_SAMPLE 274214\n",
      "https://iaspub.epa.gov/enviro/efservice/ERM_MATRIX/COUNT/JSON\n",
      "ERM_MATRIX 6\n",
      "https://iaspub.epa.gov/enviro/efservice/ERM_LOCATION/COUNT/JSON\n",
      "ERM_LOCATION 329\n",
      "https://iaspub.epa.gov/enviro/efservice/ERM_PROJECT/COUNT/JSON\n",
      "ERM_PROJECT 1052\n",
      "https://iaspub.epa.gov/enviro/efservice/ERM_STUDY/COUNT/JSON\n",
      "ERM_STUDY 10\n",
      "https://iaspub.epa.gov/enviro/efservice/ERM_ANALYTE/COUNT/JSON\n",
      "ERM_ANALYTE 65\n",
      "https://iaspub.epa.gov/enviro/efservice/ERM_ANA_PROC/COUNT/JSON\n",
      "ERM_ANA_PROC 171\n",
      "https://iaspub.epa.gov/enviro/efservice/ERM_DET_TYPE/COUNT/JSON\n",
      "ERM_DET_TYPE 412\n"
     ]
    }
   ],
   "source": [
    "for table in tablenames:\n",
    "    print(table, table_count(table))"
   ]
  },
  {
   "cell_type": "markdown",
   "metadata": {
    "collapsed": true
   },
   "source": [
    "Now we need a complete list of tables"
   ]
  },
  {
   "cell_type": "code",
   "execution_count": null,
   "metadata": {
    "collapsed": true
   },
   "outputs": [],
   "source": []
  }
 ],
 "metadata": {
  "kernelspec": {
   "display_name": "Python 3",
   "language": "python",
   "name": "python3"
  },
  "language_info": {
   "codemirror_mode": {
    "name": "ipython",
    "version": 3
   },
   "file_extension": ".py",
   "mimetype": "text/x-python",
   "name": "python",
   "nbconvert_exporter": "python",
   "pygments_lexer": "ipython3",
   "version": "3.5.2"
  }
 },
 "nbformat": 4,
 "nbformat_minor": 0
}
