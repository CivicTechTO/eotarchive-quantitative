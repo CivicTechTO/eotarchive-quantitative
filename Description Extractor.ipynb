{
 "cells": [
  {
   "cell_type": "code",
   "execution_count": 1,
   "metadata": {
    "collapsed": true
   },
   "outputs": [],
   "source": [
    "import requests"
   ]
  },
  {
   "cell_type": "code",
   "execution_count": 2,
   "metadata": {
    "collapsed": true
   },
   "outputs": [],
   "source": [
    "url = \"https://oaspub.epa.gov/enviro/EF_METADATA_HTML.ef_metadata_page?p_column_name=LATITUDE&p_table_name=sems_active_sites&p_topic=sems\""
   ]
  },
  {
   "cell_type": "code",
   "execution_count": 3,
   "metadata": {
    "collapsed": false
   },
   "outputs": [],
   "source": [
    "data = requests.get(url).text\n",
    "desc_start = data.find(\"Description:\")\n",
    "desc_end = data[desc_start:].find(\"\\n\")"
   ]
  },
  {
   "cell_type": "code",
   "execution_count": 4,
   "metadata": {
    "collapsed": false
   },
   "outputs": [
    {
     "data": {
      "text/plain": [
       "'The measure of the angular distance on a meridian north or south of the equator.'"
      ]
     },
     "execution_count": 4,
     "metadata": {},
     "output_type": "execute_result"
    }
   ],
   "source": [
    "description = data[desc_start+17:desc_start+desc_end]\n",
    "\n",
    "description "
   ]
  },
  {
   "cell_type": "code",
   "execution_count": null,
   "metadata": {
    "collapsed": false
   },
   "outputs": [],
   "source": []
  },
  {
   "cell_type": "code",
   "execution_count": 5,
   "metadata": {
    "collapsed": false
   },
   "outputs": [],
   "source": [
    "def desc_unwrapper(url):\n",
    "    data = requests.get(url).text\n",
    "    desc_start = data.find(\"Description:\")\n",
    "    desc_end = data[desc_start:].find(\"\\n\")\n",
    "    \n",
    "    description = data[desc_start+17:desc_start+desc_end]\n",
    "    \n",
    "    return description"
   ]
  }
 ],
 "metadata": {
  "kernelspec": {
   "display_name": "Python 3",
   "language": "python",
   "name": "python3"
  },
  "language_info": {
   "codemirror_mode": {
    "name": "ipython",
    "version": 3
   },
   "file_extension": ".py",
   "mimetype": "text/x-python",
   "name": "python",
   "nbconvert_exporter": "python",
   "pygments_lexer": "ipython3",
   "version": "3.5.2"
  }
 },
 "nbformat": 4,
 "nbformat_minor": 2
}
