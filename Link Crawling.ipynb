{
 "cells": [
  {
   "cell_type": "code",
   "execution_count": 1,
   "metadata": {
    "collapsed": true
   },
   "outputs": [],
   "source": [
    "import requests"
   ]
  },
  {
   "cell_type": "code",
   "execution_count": 3,
   "metadata": {
    "collapsed": true
   },
   "outputs": [],
   "source": [
    "from bs4 import BeautifulSoup"
   ]
  },
  {
   "cell_type": "code",
   "execution_count": 4,
   "metadata": {
    "collapsed": true
   },
   "outputs": [],
   "source": [
    "url='https://www.epa.gov/enviro/br-model'"
   ]
  },
  {
   "cell_type": "code",
   "execution_count": 5,
   "metadata": {
    "collapsed": true
   },
   "outputs": [],
   "source": [
    "text=requests.get(url).text"
   ]
  },
  {
   "cell_type": "code",
   "execution_count": 9,
   "metadata": {
    "collapsed": false
   },
   "outputs": [],
   "source": [
    "soup=BeautifulSoup(text,'lxml')"
   ]
  },
  {
   "cell_type": "code",
   "execution_count": 12,
   "metadata": {
    "collapsed": false
   },
   "outputs": [
    {
     "data": {
      "text/plain": [
       "[<area alt=\"RCR_BWR_WASTE_CODE\" coords=\"500,301,661,329\" href=\"http://iaspub.epa.gov/enviro/ef_metadata_html.ef_metadata_table?p_table_name=rcr_bwr_waste_code&amp;p_topic=br\" shape=\"rect\" target=\"_blank\"></area>,\n",
       " <area alt=\"BWR_BASIC\" coords=\"496,111,678,139\" href=\"http://iaspub.epa.gov/enviro/ef_metadata_html.ef_metadata_table?p_table_name=bwr_basic&amp;p_topic=br\" shape=\"rect\" target=\"_blank\"></area>,\n",
       " <area alt=\"RCR_LU_FORM_CODE\" coords=\"283,432,465,460\" href=\"http://iaspub.epa.gov/enviro/ef_metadata_html.ef_metadata_table?p_table_name=rcr_lu_form_code2&amp;p_topic=br\" shape=\"rect\" target=\"_blank\"></area>,\n",
       " <area alt=\"RCR_LU_WASTE_CODE\" coords=\"279,301,461,329\" href=\"http://iaspub.epa.gov/enviro/ef_metadata_html.ef_metadata_table?p_table_name=rcr_lu_waste_code&amp;p_topic=br\" shape=\"rect\" target=\"_blank\"></area>,\n",
       " <area alt=\"RCR_LU_MANAGEMENT_METHOD\" coords=\"277,230,459,258\" href=\"http://iaspub.epa.gov/enviro/ef_metadata_html.ef_metadata_table?p_table_name=rcr_lu_management_method&amp;p_topic=br\" shape=\"rect\" target=\"_blank\"></area>,\n",
       " <area alt=\"RCR_LU_SOURCE_CODE\" coords=\"53,379,235,407\" href=\"http://iaspub.epa.gov/enviro/ef_metadata_html.ef_metadata_table?p_table_name=rcr_lu_source_code2&amp;p_topic=br\" shape=\"rect\" target=\"_blank\"></area>,\n",
       " <area alt=\"BGM_WASTE_CODE\" coords=\"53,301,235,329\" href=\"http://iaspub.epa.gov/enviro/ef_metadata_html.ef_metadata_table?p_table_name=bgm_waste_code&amp;p_topic=br\" shape=\"rect\" target=\"_blank\"></area>,\n",
       " <area alt=\"BGM_OFFSITE_SHIPMENT\" coords=\"53,252,235,280\" href=\"http://iaspub.epa.gov/enviro/ef_metadata_html.ef_metadata_table?p_table_name=bgm_offsite_shipment&amp;p_topic=br\" shape=\"rect\" target=\"_blank\"></area>,\n",
       " <area alt=\"BGM_ONSITE_TREATMENT\" coords=\"52,205,234,233\" href=\"http://iaspub.epa.gov/enviro/ef_metadata_html.ef_metadata_table?p_table_name=bgm_onsite_treatment&amp;p_topic=br\" shape=\"rect\" target=\"_blank\"></area>,\n",
       " <area alt=\"RCR_BGM_BASIC\" coords=\"8,118,190,146\" href=\"http://iaspub.epa.gov/enviro/ef_metadata_html.ef_metadata_table?p_table_name=rcr_bgm_basic&amp;p_topic=br\" shape=\"rect\" target=\"_blank\"></area>,\n",
       " <area alt=\"RCR_HHANDLER\" coords=\"8,63,190,91\" href=\"http://iaspub.epa.gov/enviro/ef_metadata_html.ef_metadata_table?p_table_name=rcr_hhandler&amp;p_topic=br\" shape=\"rect\" target=\"_blank\"></area>,\n",
       " <area alt=\"BREPORT_CYCLE\" coords=\"8,10,190,38\" href=\"http://iaspub.epa.gov/enviro/ef_metadata_html.ef_metadata_table?p_table_name=breport_cycle&amp;p_topic=br\" shape=\"rect\" target=\"_blank\"></area>]"
      ]
     },
     "execution_count": 12,
     "metadata": {},
     "output_type": "execute_result"
    }
   ],
   "source": [
    "areas=soup.findAll('area')\n",
    "areas"
   ]
  },
  {
   "cell_type": "code",
   "execution_count": 15,
   "metadata": {
    "collapsed": false
   },
   "outputs": [],
   "source": [
    "table_names = [a.attrs['alt'] for a in areas]"
   ]
  },
  {
   "cell_type": "code",
   "execution_count": 16,
   "metadata": {
    "collapsed": false
   },
   "outputs": [
    {
     "name": "stdout",
     "output_type": "stream",
     "text": [
      "['RCR_BWR_WASTE_CODE', 'BWR_BASIC', 'RCR_LU_FORM_CODE', 'RCR_LU_WASTE_CODE', 'RCR_LU_MANAGEMENT_METHOD', 'RCR_LU_SOURCE_CODE', 'BGM_WASTE_CODE', 'BGM_OFFSITE_SHIPMENT', 'BGM_ONSITE_TREATMENT', 'RCR_BGM_BASIC', 'RCR_HHANDLER', 'BREPORT_CYCLE']\n"
     ]
    }
   ],
   "source": [
    "print(table_names)"
   ]
  },
  {
   "cell_type": "code",
   "execution_count": null,
   "metadata": {
    "collapsed": true
   },
   "outputs": [],
   "source": []
  }
 ],
 "metadata": {
  "kernelspec": {
   "display_name": "Python 3",
   "language": "python",
   "name": "python3"
  },
  "language_info": {
   "codemirror_mode": {
    "name": "ipython",
    "version": 3
   },
   "file_extension": ".py",
   "mimetype": "text/x-python",
   "name": "python",
   "nbconvert_exporter": "python",
   "pygments_lexer": "ipython3",
   "version": "3.5.2"
  }
 },
 "nbformat": 4,
 "nbformat_minor": 0
}
