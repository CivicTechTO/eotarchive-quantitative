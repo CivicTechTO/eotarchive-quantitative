{
 "cells": [
  {
   "cell_type": "markdown",
   "metadata": {},
   "source": [
    "Team members have produced a list of know database tables.\n",
    "\n",
    "I'm going to try to represent those in machine-readable format, and run tests against the API for existence and row-count"
   ]
  },
  {
   "cell_type": "markdown",
   "metadata": {},
   "source": [
    "### Table Names Document\n",
    "https://docs.google.com/spreadsheets/d/1LDDH-qxJunBqqkS1EfG2mhwgwFi7PylXtz3GYsGjDzA/edit#gid=933879858"
   ]
  },
  {
   "cell_type": "code",
   "execution_count": 5,
   "metadata": {
    "collapsed": true
   },
   "outputs": [],
   "source": [
    "import requests\n",
    "import io\n",
    "import pandas\n",
    "from itertools import chain"
   ]
  },
  {
   "cell_type": "code",
   "execution_count": null,
   "metadata": {
    "collapsed": true
   },
   "outputs": [],
   "source": [
    "def makeurl(tablename,start,end):\n",
    "    return \"https://iaspub.epa.gov/enviro/efservice/{tablename}/JSON/rows/{start}:{end}\".format_map(locals())"
   ]
  },
  {
   "cell_type": "code",
   "execution_count": 13,
   "metadata": {
    "collapsed": true
   },
   "outputs": [],
   "source": [
    "def table_count(tablename):\n",
    "    url= \"https://iaspub.epa.gov/enviro/efservice/{tablename}/COUNT/JSON\".format_map(locals())\n",
    "    out=requests.get(url)\n",
    "    try:\n",
    "        return out.json()[0]['TOTALQUERYRESULTS']\n",
    "    except Exception as e:\n",
    "        print(e)\n",
    "        print(out.text)\n",
    "        return -1"
   ]
  },
  {
   "cell_type": "code",
   "execution_count": 1,
   "metadata": {
    "collapsed": true
   },
   "outputs": [],
   "source": [
    "table_names=[\n",
    "    \"BREPORT_CYCLE\",\n",
    "    \"RCR_HHANDLER\",\n",
    "    \"RCR_BGM_BASIC\",\n",
    "    \"PUB_DIM_FACILITY\",\n",
    "    \"PUB_FACTS_SUBP_GHG_EMISSION\",\n",
    "    \"PUB_FACTS_SECTOR_GHG_EMISSION\",\n",
    "    \"PUB_DIM_SUBPART\",\n",
    "    \"PUB_DIM_GHG\",\n",
    "    \"PUB_DIM_SECTOR\",\n",
    "    \"PUB_DIM_SUBSECTOR\",\n",
    "    \"PUB_DIM_FACILITY\",\n",
    "    \"AA_MAKEUP_CHEMICAL_INFO\",\n",
    "    \"AA_SUBPART_LEVEL_INFORMATION\",\n",
    "    \"AA_SPENT_LIQUOR_INFORMATION\",\n",
    "    \"AA_FOSSIL_FUEL_INFORMATION\",\n",
    "    \"AA_FOSSIL_FUEL_TIER_2_INFO\",\n",
    "    \"AA_CEMS_DETAILS\",\n",
    "    \"AA_TIER_4_CEMS_QUARTERLY_CO2\",\n",
    "    \"PUB_DIM_FACILITY\",\n",
    "    \"EE_CEMS_DETAILS\",\n",
    "    \"EE_CEMS_INFO\",\n",
    "    \"EE_FACILITY_INFO\",\n",
    "    \"EE_NOCEMS_MONTHLYDETAILS\",\n",
    "    \"EE_NOCEMSTIO2DETAILS\",\n",
    "    \"EE_SUBPART_LEVEL_INFORMATION\",\n",
    "    \"EE_TIER4CEMS_QTRDTLS\",\n",
    "    \"PUB_DIM_FACILITY\",\n",
    "    \"GG_FACILITY_INFO\",\n",
    "    \"GG_NOCEMS_ZINC_DETAILS\",\n",
    "    \"GG_SUBPART_LEVEL_INFORMATION\",\n",
    "    \"PUB_DIM_FACILITY\",\n",
    "    \"II_BIOGAS_REC_PROC\",\n",
    "    \"II_CH4_GEN_PROCESS\",\n",
    "    \"II_EQU_II1_OR_II2\",\n",
    "    \"II_EQU_II4_INPUT\",\n",
    "    \"II_EQUATION_II3\",\n",
    "    \"II_EQUATION_II6\",\n",
    "    \"II_EQUATION_II7\",\n",
    "    \"II_SUBPART_LEVEL_INFORMATION\",\n",
    "    \"II_PROCESS_DETAILS\",\n",
    "    \"PUB_DIM_FACILITY\",\n",
    "    \"NN_SUBPART_LEVEL_INFORMATION\",\n",
    "    \"NN_NGL_FRACTIONATOR_METHODS\",\n",
    "    \"NN_LDC_NAT_GAS_DELIVERIES\",\n",
    "    \"NN_LDC_DETAILS\",\n",
    "    \"PUB_DIM_FACILITY\",\n",
    "    \"R_SUBPART_LEVEL_INFORMATION\",\n",
    "    \"R_FACILITY_INFO\",\n",
    "    \"R_SMELTING_FURNACE_INFO\",\n",
    "    \"R_FEEDSTOCK_INFO\",\n",
    "    \"PUB_DIM_FACILITY\",\n",
    "    \"TT_SUBPART_GHG_INFO\",\n",
    "    \"TT_LANDFILL_DETAILS\",\n",
    "    \"TT_LF_GAS_COLL_DETAILS\",\n",
    "    \"TT_WASTE_DEPTH_DETAILS\",\n",
    "    \"TT_WASTESTREAM_DETLS\",\n",
    "    \"TT_HIST_WASTE_METHOD\",\n",
    "    \"PUB_DIM_FACILITY\",\n",
    "    \"W_SUBPART_LEVEL_INFORMATION\",\n",
    "    \"W_LIQUIDS_UNLOADING\",\n",
    "    \"W_TRANSMISSION_TANKS\",\n",
    "    \"W_PNEUMATIC_DEVICES\",\n",
    "    \"W_WELL_COMPLETION_HYDRAULIC\",\n",
    "    \"W_WELL_TESTING\",\n",
    "]"
   ]
  },
  {
   "cell_type": "markdown",
   "metadata": {},
   "source": [
    "For each table, I want to \n",
    "* assert that it actually exists\n",
    "* get a rowcount"
   ]
  },
  {
   "cell_type": "code",
   "execution_count": 6,
   "metadata": {
    "collapsed": false
   },
   "outputs": [
    {
     "name": "stdout",
     "output_type": "stream",
     "text": [
      "https://iaspub.epa.gov/enviro/efservice/BREPORT_CYCLE/COUNT/JSON\n"
     ]
    },
    {
     "data": {
      "text/plain": [
       "7"
      ]
     },
     "execution_count": 6,
     "metadata": {},
     "output_type": "execute_result"
    }
   ],
   "source": [
    "table_count(table_names[0])"
   ]
  },
  {
   "cell_type": "code",
   "execution_count": 15,
   "metadata": {
    "collapsed": false
   },
   "outputs": [
    {
     "name": "stdout",
     "output_type": "stream",
     "text": [
      "CPU times: user 816 ms, sys: 172 ms, total: 988 ms\n",
      "Wall time: 25.2 s\n"
     ]
    }
   ],
   "source": [
    "%%time\n",
    "table_counts={\n",
    "    table_name:table_count(table_name)\n",
    "    for table_name in table_names\n",
    "}"
   ]
  },
  {
   "cell_type": "code",
   "execution_count": 16,
   "metadata": {
    "collapsed": false
   },
   "outputs": [
    {
     "data": {
      "text/plain": [
       "AA_CEMS_DETAILS                        0\n",
       "AA_FOSSIL_FUEL_INFORMATION          2560\n",
       "AA_FOSSIL_FUEL_TIER_2_INFO         11100\n",
       "AA_MAKEUP_CHEMICAL_INFO              659\n",
       "AA_SPENT_LIQUOR_INFORMATION         1738\n",
       "AA_SUBPART_LEVEL_INFORMATION        2636\n",
       "AA_TIER_4_CEMS_QUARTERLY_CO2           0\n",
       "BREPORT_CYCLE                          7\n",
       "EE_CEMS_DETAILS                        0\n",
       "EE_CEMS_INFO                           0\n",
       "EE_FACILITY_INFO                      42\n",
       "EE_NOCEMSTIO2DETAILS                  30\n",
       "EE_NOCEMS_MONTHLYDETAILS             360\n",
       "EE_SUBPART_LEVEL_INFORMATION         105\n",
       "EE_TIER4CEMS_QTRDTLS                   0\n",
       "GG_FACILITY_INFO                      35\n",
       "GG_NOCEMS_ZINC_DETAILS               101\n",
       "GG_SUBPART_LEVEL_INFORMATION          86\n",
       "II_BIOGAS_REC_PROC                 29537\n",
       "II_CH4_GEN_PROCESS                 51168\n",
       "II_EQUATION_II3                      263\n",
       "II_EQUATION_II6                      673\n",
       "II_EQUATION_II7                      275\n",
       "II_EQU_II1_OR_II2                    340\n",
       "II_EQU_II4_INPUT                     275\n",
       "II_PROCESS_DETAILS                   945\n",
       "II_SUBPART_LEVEL_INFORMATION         788\n",
       "NN_LDC_DETAILS                      2282\n",
       "NN_LDC_NAT_GAS_DELIVERIES           9124\n",
       "NN_NGL_FRACTIONATOR_METHODS         2970\n",
       "NN_SUBPART_LEVEL_INFORMATION        3005\n",
       "PUB_DIM_FACILITY                   50640\n",
       "PUB_DIM_GHG                           14\n",
       "PUB_DIM_SECTOR                        16\n",
       "PUB_DIM_SUBPART                       42\n",
       "PUB_DIM_SUBSECTOR                     69\n",
       "PUB_FACTS_SECTOR_GHG_EMISSION     140318\n",
       "PUB_FACTS_SUBP_GHG_EMISSION       167037\n",
       "RCR_BGM_BASIC                    1801605\n",
       "RCR_HHANDLER                     2391179\n",
       "R_FACILITY_INFO                       68\n",
       "R_FEEDSTOCK_INFO                     604\n",
       "R_SMELTING_FURNACE_INFO              158\n",
       "R_SUBPART_LEVEL_INFORMATION           77\n",
       "TT_HIST_WASTE_METHOD              112136\n",
       "TT_LANDFILL_DETAILS                 1215\n",
       "TT_LF_GAS_COLL_DETAILS                36\n",
       "TT_SUBPART_GHG_INFO                 3475\n",
       "TT_WASTESTREAM_DETLS                3930\n",
       "TT_WASTE_DEPTH_DETAILS                45\n",
       "W_LIQUIDS_UNLOADING                 2040\n",
       "W_PNEUMATIC_DEVICES                 4134\n",
       "W_SUBPART_LEVEL_INFORMATION        21019\n",
       "W_TRANSMISSION_TANKS                1888\n",
       "W_WELL_COMPLETION_HYDRAULIC         2608\n",
       "W_WELL_TESTING                      2040\n",
       "dtype: int64"
      ]
     },
     "execution_count": 16,
     "metadata": {},
     "output_type": "execute_result"
    }
   ],
   "source": [
    "pandas.Series(table_counts)"
   ]
  },
  {
   "cell_type": "code",
   "execution_count": 17,
   "metadata": {
    "collapsed": false
   },
   "outputs": [
    {
     "data": {
      "text/plain": [
       "56"
      ]
     },
     "execution_count": 17,
     "metadata": {},
     "output_type": "execute_result"
    }
   ],
   "source": [
    "len(table_counts)"
   ]
  },
  {
   "cell_type": "markdown",
   "metadata": {},
   "source": [
    "So all of these tables exist."
   ]
  },
  {
   "cell_type": "code",
   "execution_count": null,
   "metadata": {
    "collapsed": true
   },
   "outputs": [],
   "source": []
  }
 ],
 "metadata": {
  "kernelspec": {
   "display_name": "Python 3",
   "language": "python",
   "name": "python3"
  },
  "language_info": {
   "codemirror_mode": {
    "name": "ipython",
    "version": 3
   },
   "file_extension": ".py",
   "mimetype": "text/x-python",
   "name": "python",
   "nbconvert_exporter": "python",
   "pygments_lexer": "ipython3",
   "version": "3.5.2"
  }
 },
 "nbformat": 4,
 "nbformat_minor": 0
}
